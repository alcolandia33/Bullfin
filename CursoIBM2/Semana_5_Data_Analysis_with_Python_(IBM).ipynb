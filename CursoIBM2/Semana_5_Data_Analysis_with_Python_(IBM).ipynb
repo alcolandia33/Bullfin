{
  "nbformat": 4,
  "nbformat_minor": 0,
  "metadata": {
    "colab": {
      "provenance": [],
      "authorship_tag": "ABX9TyMsmCOFXEXh1bPpIppuOVsN",
      "include_colab_link": true
    },
    "kernelspec": {
      "name": "python3",
      "display_name": "Python 3"
    },
    "language_info": {
      "name": "python"
    }
  },
  "cells": [
    {
      "cell_type": "markdown",
      "metadata": {
        "id": "view-in-github",
        "colab_type": "text"
      },
      "source": [
        "<a href=\"https://colab.research.google.com/github/alcolandia33/Bullfin/blob/master/CursoIBM2/Semana_5_Data_Analysis_with_Python_(IBM).ipynb\" target=\"_parent\"><img src=\"https://colab.research.google.com/assets/colab-badge.svg\" alt=\"Open In Colab\"/></a>"
      ]
    },
    {
      "cell_type": "markdown",
      "source": [
        "\n",
        "#Semana 5: Data Analysis with Python (IBM)\n",
        "\n",
        "Jerson David Perez Contreras\n",
        "\n",
        "A01793810\n",
        "\n",
        "# Notebooks\n",
        "\n",
        "##Pre-Processing Data in Python 2\n",
        "\n",
        "Procesar la Data consiste en limpiar una base de datos mediante diferentes tecnicas con el fin de obtener una base limpia y lista para analisar.\n",
        "Las diferentes tecnicas buscan maneja los valores faltantes o  nulos, formatear datos, realizar normalizaciones para hacer comparables los datos y realizar agrupamientos e identificar variables a categoricas.\n",
        "\n",
        "##Dealing with missing values in Python\n",
        "\n",
        "Los valores faltantes suelen aparecer en lka base de datos como datos representados por ?, \"N/A\", O ó celdas vacias. \n",
        "\n",
        "Para tratar los valores perdidos se pueden realizar diferentes metodos dependiendo de la situación, por ejemplo se deberia intentar en primera instancia si la fuente de origen no puede rescatar los valores perdidos, otra opcion es elminar los datos donde se encuentre valores faltantes si estos no tienen muchas observaciones que pueden generar impacto, otra opcion es  reemplazar los valores perdidos por valores promedios o tambien simplemente trabajar con ellos si el anbalisis lo permite.\n",
        "\n",
        "Df.dropna() eliminar observaciones de valores perdidos, argumento inplace= true reemplaza la dataframe original con la funcion aplicada.\n",
        "\n",
        "DF.replace(missinVaue, newValue) Nos permite reemplazar valores, con esta funcion podemos reemplazar los vacios por el promedio.\n",
        "\n",
        "\n",
        "##Data Formatting in Python\n",
        "\n",
        "El formateo de datos copsniste en llevar los datos a expresiones estandar que permita a los usuarios hacer comparaciones consistentes, ademas de garantizar que los datos sean cosistentes y faciilmente compresible.\n",
        "\n",
        "Por ejemplo adaptar ciertos datos de un pais a otro al manejar deferentes medidas como la velocidad, el peso, las longitudes la hora etc. se pueden utilizar las funciones head o tail para explorar como estan los datos y definir si se requiere algunas tranformaciones.\n",
        "\n",
        "## Data Normalization in Python\n",
        "\n",
        "\n",
        "\n",
        "\n",
        "\n"
      ],
      "metadata": {
        "id": "e75ZZuVag8SJ"
      }
    }
  ]
}