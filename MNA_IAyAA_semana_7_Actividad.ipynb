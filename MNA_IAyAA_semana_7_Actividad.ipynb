{
  "nbformat": 4,
  "nbformat_minor": 0,
  "metadata": {
    "colab": {
      "provenance": [],
      "collapsed_sections": [],
      "include_colab_link": true
    },
    "kernelspec": {
      "display_name": "Python 3",
      "name": "python3"
    }
  },
  "cells": [
    {
      "cell_type": "markdown",
      "metadata": {
        "id": "view-in-github",
        "colab_type": "text"
      },
      "source": [
        "<a href=\"https://colab.research.google.com/github/alcolandia33/Bullfin/blob/master/MNA_IAyAA_semana_7_Actividad.ipynb\" target=\"_parent\"><img src=\"https://colab.research.google.com/assets/colab-badge.svg\" alt=\"Open In Colab\"/></a>"
      ]
    },
    {
      "cell_type": "markdown",
      "source": [
        "#**Maestría en Inteligencia Artificial Aplicada**\n",
        "##**Curso: Inteligencia Artificial y Aprendizaje Automático**\n",
        "###Tecnológico de Monterrey\n",
        "###Prof Luis Eduardo Falcón Morales\n",
        "\n",
        "## **Adtividad de la Semana 7**\n",
        "###**Red Neuronal Artificial - Perceptrón Multicapa : Multilayer Perceptrón (MLP)**\n"
      ],
      "metadata": {
        "id": "VFj0sSM06dYa"
      }
    },
    {
      "cell_type": "markdown",
      "source": [
        "**Nombres y matrículas de los integrantes del equipo:**\n",
        "\n",
        "* Aurelio Antonio Lozano Rabago A01081266\n",
        "* Josias Ruiz Peña A00968460\n",
        "* David González A01794025\n",
        "* Jerson David Pérez Contreras A01793810\n",
        "* Jose Alberto Mtanous Treviño A00169781\n"
      ],
      "metadata": {
        "id": "Qgrvy0RGB9XI"
      }
    },
    {
      "cell_type": "markdown",
      "source": [
        "En cada sección deberás incluir todas las líneas de código necesarias para responder a cada uno de los ejercicios."
      ],
      "metadata": {
        "id": "FrJ2ahMODVj1"
      }
    },
    {
      "cell_type": "code",
      "source": [
        "# Incluye aquí todos módulos, librerías y paquetes que requieras.\n",
        "import os\n",
        "import numpy as np\n",
        "import pandas as pd\n",
        "import seaborn as sns \n",
        "\n",
        "from sklearn.model_selection import train_test_split \n",
        "\n",
        "from sklearn.metrics import confusion_matrix,classification_report, make_scorer\n",
        "\n",
        "from sklearn.pipeline import Pipeline\n",
        "from sklearn.preprocessing import MinMaxScaler, OneHotEncoder, StandardScaler\n",
        "from sklearn.preprocessing import FunctionTransformer\n",
        "from sklearn.impute import SimpleImputer\n",
        "from sklearn.preprocessing import OneHotEncoder\n",
        "from sklearn.compose import ColumnTransformer\n",
        "from sklearn.compose import TransformedTargetRegressor\n",
        "\n",
        "from sklearn.dummy import DummyRegressor\n",
        "\n",
        "from sklearn.linear_model import LinearRegression\n",
        "from sklearn.ensemble import RandomForestRegressor\n",
        "from sklearn.neural_network import MLPRegressor\n",
        "\n",
        "from sklearn.model_selection import  cross_validate,  RepeatedStratifiedKFold\n",
        "\n",
        "from sklearn.pipeline import make_pipeline\n",
        "import requests, zipfile\n",
        "from io import BytesIO\n",
        "\n",
        "import matplotlib.pyplot as plt\n",
        "from sklearn.datasets import make_classification\n",
        "import math\n"
      ],
      "metadata": {
        "id": "exXsscs-Dh-2"
      },
      "execution_count": 3,
      "outputs": []
    },
    {
      "cell_type": "markdown",
      "metadata": {
        "id": "X25brD-gQdZM"
      },
      "source": [
        "#**Ejercicio-1.** \n",
        "\n",
        "En esta tarea considera únicamente la siguiente variable de salida que se concluye que es una de las \n",
        "mejores en el artículo antes citado:  ‘Lifetime People who have liked a Page and engaged with a \n",
        "post'. Renombra dicha variable como “LPE” . Como variables de entrada selecciona las 7 variables \n",
        "que indican los autores en la Tabla 3 del artículo citado."
      ]
    },
    {
      "cell_type": "code",
      "source": [
        "# Cargamos el archivo que está en la siguiente liga:\n",
        "\n",
        "path = 'https://archive.ics.uci.edu/ml/machine-learning-databases/00368/Facebook_metrics.zip'\n",
        "file_name = 'dataset_Facebook.csv'\n",
        "req = requests.get(path)\n",
        "zp = zipfile.ZipFile(BytesIO(req.content))\n",
        "zp.extractall()\n",
        "miDF = pd.read_csv(file_name, sep=';')\n",
        "miDF.describe()"
      ],
      "metadata": {
        "id": "3nU2GuWYCy6C",
        "colab": {
          "base_uri": "https://localhost:8080/",
          "height": 486
        },
        "outputId": "c369d999-4479-47d8-f31e-3b4ff5ff0a1f"
      },
      "execution_count": 4,
      "outputs": [
        {
          "output_type": "execute_result",
          "data": {
            "text/plain": [
              "       Page total likes    Category  Post Month  Post Weekday   Post Hour  \\\n",
              "count        500.000000  500.000000  500.000000    500.000000  500.000000   \n",
              "mean      123194.176000    1.880000    7.038000      4.150000    7.840000   \n",
              "std        16272.813214    0.852675    3.307936      2.030701    4.368589   \n",
              "min        81370.000000    1.000000    1.000000      1.000000    1.000000   \n",
              "25%       112676.000000    1.000000    4.000000      2.000000    3.000000   \n",
              "50%       129600.000000    2.000000    7.000000      4.000000    9.000000   \n",
              "75%       136393.000000    3.000000   10.000000      6.000000   11.000000   \n",
              "max       139441.000000    3.000000   12.000000      7.000000   23.000000   \n",
              "\n",
              "             Paid  Lifetime Post Total Reach  Lifetime Post Total Impressions  \\\n",
              "count  499.000000                  500.00000                     5.000000e+02   \n",
              "mean     0.278557                13903.36000                     2.958595e+04   \n",
              "std      0.448739                22740.78789                     7.680325e+04   \n",
              "min      0.000000                  238.00000                     5.700000e+02   \n",
              "25%      0.000000                 3315.00000                     5.694750e+03   \n",
              "50%      0.000000                 5281.00000                     9.051000e+03   \n",
              "75%      1.000000                13168.00000                     2.208550e+04   \n",
              "max      1.000000               180480.00000                     1.110282e+06   \n",
              "\n",
              "       Lifetime Engaged Users  Lifetime Post Consumers  \\\n",
              "count              500.000000               500.000000   \n",
              "mean               920.344000               798.772000   \n",
              "std                985.016636               882.505013   \n",
              "min                  9.000000                 9.000000   \n",
              "25%                393.750000               332.500000   \n",
              "50%                625.500000               551.500000   \n",
              "75%               1062.000000               955.500000   \n",
              "max              11452.000000             11328.000000   \n",
              "\n",
              "       Lifetime Post Consumptions  \\\n",
              "count                  500.000000   \n",
              "mean                  1415.130000   \n",
              "std                   2000.594118   \n",
              "min                      9.000000   \n",
              "25%                    509.250000   \n",
              "50%                    851.000000   \n",
              "75%                   1463.000000   \n",
              "max                  19779.000000   \n",
              "\n",
              "       Lifetime Post Impressions by people who have liked your Page  \\\n",
              "count                                       5.000000e+02              \n",
              "mean                                        1.676638e+04              \n",
              "std                                         5.979102e+04              \n",
              "min                                         5.670000e+02              \n",
              "25%                                         3.969750e+03              \n",
              "50%                                         6.255500e+03              \n",
              "75%                                         1.486050e+04              \n",
              "max                                         1.107833e+06              \n",
              "\n",
              "       Lifetime Post reach by people who like your Page  \\\n",
              "count                                        500.000000   \n",
              "mean                                        6585.488000   \n",
              "std                                         7682.009405   \n",
              "min                                          236.000000   \n",
              "25%                                         2181.500000   \n",
              "50%                                         3417.000000   \n",
              "75%                                         7989.000000   \n",
              "max                                        51456.000000   \n",
              "\n",
              "       Lifetime People who have liked your Page and engaged with your post  \\\n",
              "count                                         500.000000                     \n",
              "mean                                          609.986000                     \n",
              "std                                           612.725618                     \n",
              "min                                             9.000000                     \n",
              "25%                                           291.000000                     \n",
              "50%                                           412.000000                     \n",
              "75%                                           656.250000                     \n",
              "max                                          4376.000000                     \n",
              "\n",
              "         comment         like       share  Total Interactions  \n",
              "count  500.00000   499.000000  496.000000          500.000000  \n",
              "mean     7.48200   177.945892   27.266129          212.120000  \n",
              "std     21.18091   323.398742   42.613292          380.233118  \n",
              "min      0.00000     0.000000    0.000000            0.000000  \n",
              "25%      1.00000    56.500000   10.000000           71.000000  \n",
              "50%      3.00000   101.000000   19.000000          123.500000  \n",
              "75%      7.00000   187.500000   32.250000          228.500000  \n",
              "max    372.00000  5172.000000  790.000000         6334.000000  "
            ],
            "text/html": [
              "\n",
              "  <div id=\"df-07d8c86c-a468-42c8-80b7-2c4f51237391\">\n",
              "    <div class=\"colab-df-container\">\n",
              "      <div>\n",
              "<style scoped>\n",
              "    .dataframe tbody tr th:only-of-type {\n",
              "        vertical-align: middle;\n",
              "    }\n",
              "\n",
              "    .dataframe tbody tr th {\n",
              "        vertical-align: top;\n",
              "    }\n",
              "\n",
              "    .dataframe thead th {\n",
              "        text-align: right;\n",
              "    }\n",
              "</style>\n",
              "<table border=\"1\" class=\"dataframe\">\n",
              "  <thead>\n",
              "    <tr style=\"text-align: right;\">\n",
              "      <th></th>\n",
              "      <th>Page total likes</th>\n",
              "      <th>Category</th>\n",
              "      <th>Post Month</th>\n",
              "      <th>Post Weekday</th>\n",
              "      <th>Post Hour</th>\n",
              "      <th>Paid</th>\n",
              "      <th>Lifetime Post Total Reach</th>\n",
              "      <th>Lifetime Post Total Impressions</th>\n",
              "      <th>Lifetime Engaged Users</th>\n",
              "      <th>Lifetime Post Consumers</th>\n",
              "      <th>Lifetime Post Consumptions</th>\n",
              "      <th>Lifetime Post Impressions by people who have liked your Page</th>\n",
              "      <th>Lifetime Post reach by people who like your Page</th>\n",
              "      <th>Lifetime People who have liked your Page and engaged with your post</th>\n",
              "      <th>comment</th>\n",
              "      <th>like</th>\n",
              "      <th>share</th>\n",
              "      <th>Total Interactions</th>\n",
              "    </tr>\n",
              "  </thead>\n",
              "  <tbody>\n",
              "    <tr>\n",
              "      <th>count</th>\n",
              "      <td>500.000000</td>\n",
              "      <td>500.000000</td>\n",
              "      <td>500.000000</td>\n",
              "      <td>500.000000</td>\n",
              "      <td>500.000000</td>\n",
              "      <td>499.000000</td>\n",
              "      <td>500.00000</td>\n",
              "      <td>5.000000e+02</td>\n",
              "      <td>500.000000</td>\n",
              "      <td>500.000000</td>\n",
              "      <td>500.000000</td>\n",
              "      <td>5.000000e+02</td>\n",
              "      <td>500.000000</td>\n",
              "      <td>500.000000</td>\n",
              "      <td>500.00000</td>\n",
              "      <td>499.000000</td>\n",
              "      <td>496.000000</td>\n",
              "      <td>500.000000</td>\n",
              "    </tr>\n",
              "    <tr>\n",
              "      <th>mean</th>\n",
              "      <td>123194.176000</td>\n",
              "      <td>1.880000</td>\n",
              "      <td>7.038000</td>\n",
              "      <td>4.150000</td>\n",
              "      <td>7.840000</td>\n",
              "      <td>0.278557</td>\n",
              "      <td>13903.36000</td>\n",
              "      <td>2.958595e+04</td>\n",
              "      <td>920.344000</td>\n",
              "      <td>798.772000</td>\n",
              "      <td>1415.130000</td>\n",
              "      <td>1.676638e+04</td>\n",
              "      <td>6585.488000</td>\n",
              "      <td>609.986000</td>\n",
              "      <td>7.48200</td>\n",
              "      <td>177.945892</td>\n",
              "      <td>27.266129</td>\n",
              "      <td>212.120000</td>\n",
              "    </tr>\n",
              "    <tr>\n",
              "      <th>std</th>\n",
              "      <td>16272.813214</td>\n",
              "      <td>0.852675</td>\n",
              "      <td>3.307936</td>\n",
              "      <td>2.030701</td>\n",
              "      <td>4.368589</td>\n",
              "      <td>0.448739</td>\n",
              "      <td>22740.78789</td>\n",
              "      <td>7.680325e+04</td>\n",
              "      <td>985.016636</td>\n",
              "      <td>882.505013</td>\n",
              "      <td>2000.594118</td>\n",
              "      <td>5.979102e+04</td>\n",
              "      <td>7682.009405</td>\n",
              "      <td>612.725618</td>\n",
              "      <td>21.18091</td>\n",
              "      <td>323.398742</td>\n",
              "      <td>42.613292</td>\n",
              "      <td>380.233118</td>\n",
              "    </tr>\n",
              "    <tr>\n",
              "      <th>min</th>\n",
              "      <td>81370.000000</td>\n",
              "      <td>1.000000</td>\n",
              "      <td>1.000000</td>\n",
              "      <td>1.000000</td>\n",
              "      <td>1.000000</td>\n",
              "      <td>0.000000</td>\n",
              "      <td>238.00000</td>\n",
              "      <td>5.700000e+02</td>\n",
              "      <td>9.000000</td>\n",
              "      <td>9.000000</td>\n",
              "      <td>9.000000</td>\n",
              "      <td>5.670000e+02</td>\n",
              "      <td>236.000000</td>\n",
              "      <td>9.000000</td>\n",
              "      <td>0.00000</td>\n",
              "      <td>0.000000</td>\n",
              "      <td>0.000000</td>\n",
              "      <td>0.000000</td>\n",
              "    </tr>\n",
              "    <tr>\n",
              "      <th>25%</th>\n",
              "      <td>112676.000000</td>\n",
              "      <td>1.000000</td>\n",
              "      <td>4.000000</td>\n",
              "      <td>2.000000</td>\n",
              "      <td>3.000000</td>\n",
              "      <td>0.000000</td>\n",
              "      <td>3315.00000</td>\n",
              "      <td>5.694750e+03</td>\n",
              "      <td>393.750000</td>\n",
              "      <td>332.500000</td>\n",
              "      <td>509.250000</td>\n",
              "      <td>3.969750e+03</td>\n",
              "      <td>2181.500000</td>\n",
              "      <td>291.000000</td>\n",
              "      <td>1.00000</td>\n",
              "      <td>56.500000</td>\n",
              "      <td>10.000000</td>\n",
              "      <td>71.000000</td>\n",
              "    </tr>\n",
              "    <tr>\n",
              "      <th>50%</th>\n",
              "      <td>129600.000000</td>\n",
              "      <td>2.000000</td>\n",
              "      <td>7.000000</td>\n",
              "      <td>4.000000</td>\n",
              "      <td>9.000000</td>\n",
              "      <td>0.000000</td>\n",
              "      <td>5281.00000</td>\n",
              "      <td>9.051000e+03</td>\n",
              "      <td>625.500000</td>\n",
              "      <td>551.500000</td>\n",
              "      <td>851.000000</td>\n",
              "      <td>6.255500e+03</td>\n",
              "      <td>3417.000000</td>\n",
              "      <td>412.000000</td>\n",
              "      <td>3.00000</td>\n",
              "      <td>101.000000</td>\n",
              "      <td>19.000000</td>\n",
              "      <td>123.500000</td>\n",
              "    </tr>\n",
              "    <tr>\n",
              "      <th>75%</th>\n",
              "      <td>136393.000000</td>\n",
              "      <td>3.000000</td>\n",
              "      <td>10.000000</td>\n",
              "      <td>6.000000</td>\n",
              "      <td>11.000000</td>\n",
              "      <td>1.000000</td>\n",
              "      <td>13168.00000</td>\n",
              "      <td>2.208550e+04</td>\n",
              "      <td>1062.000000</td>\n",
              "      <td>955.500000</td>\n",
              "      <td>1463.000000</td>\n",
              "      <td>1.486050e+04</td>\n",
              "      <td>7989.000000</td>\n",
              "      <td>656.250000</td>\n",
              "      <td>7.00000</td>\n",
              "      <td>187.500000</td>\n",
              "      <td>32.250000</td>\n",
              "      <td>228.500000</td>\n",
              "    </tr>\n",
              "    <tr>\n",
              "      <th>max</th>\n",
              "      <td>139441.000000</td>\n",
              "      <td>3.000000</td>\n",
              "      <td>12.000000</td>\n",
              "      <td>7.000000</td>\n",
              "      <td>23.000000</td>\n",
              "      <td>1.000000</td>\n",
              "      <td>180480.00000</td>\n",
              "      <td>1.110282e+06</td>\n",
              "      <td>11452.000000</td>\n",
              "      <td>11328.000000</td>\n",
              "      <td>19779.000000</td>\n",
              "      <td>1.107833e+06</td>\n",
              "      <td>51456.000000</td>\n",
              "      <td>4376.000000</td>\n",
              "      <td>372.00000</td>\n",
              "      <td>5172.000000</td>\n",
              "      <td>790.000000</td>\n",
              "      <td>6334.000000</td>\n",
              "    </tr>\n",
              "  </tbody>\n",
              "</table>\n",
              "</div>\n",
              "      <button class=\"colab-df-convert\" onclick=\"convertToInteractive('df-07d8c86c-a468-42c8-80b7-2c4f51237391')\"\n",
              "              title=\"Convert this dataframe to an interactive table.\"\n",
              "              style=\"display:none;\">\n",
              "        \n",
              "  <svg xmlns=\"http://www.w3.org/2000/svg\" height=\"24px\"viewBox=\"0 0 24 24\"\n",
              "       width=\"24px\">\n",
              "    <path d=\"M0 0h24v24H0V0z\" fill=\"none\"/>\n",
              "    <path d=\"M18.56 5.44l.94 2.06.94-2.06 2.06-.94-2.06-.94-.94-2.06-.94 2.06-2.06.94zm-11 1L8.5 8.5l.94-2.06 2.06-.94-2.06-.94L8.5 2.5l-.94 2.06-2.06.94zm10 10l.94 2.06.94-2.06 2.06-.94-2.06-.94-.94-2.06-.94 2.06-2.06.94z\"/><path d=\"M17.41 7.96l-1.37-1.37c-.4-.4-.92-.59-1.43-.59-.52 0-1.04.2-1.43.59L10.3 9.45l-7.72 7.72c-.78.78-.78 2.05 0 2.83L4 21.41c.39.39.9.59 1.41.59.51 0 1.02-.2 1.41-.59l7.78-7.78 2.81-2.81c.8-.78.8-2.07 0-2.86zM5.41 20L4 18.59l7.72-7.72 1.47 1.35L5.41 20z\"/>\n",
              "  </svg>\n",
              "      </button>\n",
              "      \n",
              "  <style>\n",
              "    .colab-df-container {\n",
              "      display:flex;\n",
              "      flex-wrap:wrap;\n",
              "      gap: 12px;\n",
              "    }\n",
              "\n",
              "    .colab-df-convert {\n",
              "      background-color: #E8F0FE;\n",
              "      border: none;\n",
              "      border-radius: 50%;\n",
              "      cursor: pointer;\n",
              "      display: none;\n",
              "      fill: #1967D2;\n",
              "      height: 32px;\n",
              "      padding: 0 0 0 0;\n",
              "      width: 32px;\n",
              "    }\n",
              "\n",
              "    .colab-df-convert:hover {\n",
              "      background-color: #E2EBFA;\n",
              "      box-shadow: 0px 1px 2px rgba(60, 64, 67, 0.3), 0px 1px 3px 1px rgba(60, 64, 67, 0.15);\n",
              "      fill: #174EA6;\n",
              "    }\n",
              "\n",
              "    [theme=dark] .colab-df-convert {\n",
              "      background-color: #3B4455;\n",
              "      fill: #D2E3FC;\n",
              "    }\n",
              "\n",
              "    [theme=dark] .colab-df-convert:hover {\n",
              "      background-color: #434B5C;\n",
              "      box-shadow: 0px 1px 3px 1px rgba(0, 0, 0, 0.15);\n",
              "      filter: drop-shadow(0px 1px 2px rgba(0, 0, 0, 0.3));\n",
              "      fill: #FFFFFF;\n",
              "    }\n",
              "  </style>\n",
              "\n",
              "      <script>\n",
              "        const buttonEl =\n",
              "          document.querySelector('#df-07d8c86c-a468-42c8-80b7-2c4f51237391 button.colab-df-convert');\n",
              "        buttonEl.style.display =\n",
              "          google.colab.kernel.accessAllowed ? 'block' : 'none';\n",
              "\n",
              "        async function convertToInteractive(key) {\n",
              "          const element = document.querySelector('#df-07d8c86c-a468-42c8-80b7-2c4f51237391');\n",
              "          const dataTable =\n",
              "            await google.colab.kernel.invokeFunction('convertToInteractive',\n",
              "                                                     [key], {});\n",
              "          if (!dataTable) return;\n",
              "\n",
              "          const docLinkHtml = 'Like what you see? Visit the ' +\n",
              "            '<a target=\"_blank\" href=https://colab.research.google.com/notebooks/data_table.ipynb>data table notebook</a>'\n",
              "            + ' to learn more about interactive tables.';\n",
              "          element.innerHTML = '';\n",
              "          dataTable['output_type'] = 'display_data';\n",
              "          await google.colab.output.renderOutput(dataTable, element);\n",
              "          const docLink = document.createElement('div');\n",
              "          docLink.innerHTML = docLinkHtml;\n",
              "          element.appendChild(docLink);\n",
              "        }\n",
              "      </script>\n",
              "    </div>\n",
              "  </div>\n",
              "  "
            ]
          },
          "metadata": {},
          "execution_count": 4
        }
      ]
    },
    {
      "cell_type": "code",
      "source": [
        "#renombramos las columnas\n",
        "miDF.rename(columns={\n",
        "    'Page total likes': 'PageTotalLikes',\n",
        "    'Post Month': 'PostMonth',\n",
        "    'Post Hour': 'PostHour',\n",
        "    'Post Weekday': 'PostWeekday',\n",
        "    'Lifetime People who have liked your Page and engaged with your post':'LPE',\n",
        "},inplace=True)\n",
        "miDF.head()"
      ],
      "metadata": {
        "id": "0ulkqXVGCy97",
        "colab": {
          "base_uri": "https://localhost:8080/",
          "height": 374
        },
        "outputId": "3c98259d-d009-4a1b-e97d-d29f088b0b28"
      },
      "execution_count": 5,
      "outputs": [
        {
          "output_type": "execute_result",
          "data": {
            "text/plain": [
              "   PageTotalLikes    Type  Category  PostMonth  PostWeekday  PostHour  Paid  \\\n",
              "0          139441   Photo         2         12            4         3   0.0   \n",
              "1          139441  Status         2         12            3        10   0.0   \n",
              "2          139441   Photo         3         12            3         3   0.0   \n",
              "3          139441   Photo         2         12            2        10   1.0   \n",
              "4          139441   Photo         2         12            2         3   0.0   \n",
              "\n",
              "   Lifetime Post Total Reach  Lifetime Post Total Impressions  \\\n",
              "0                       2752                             5091   \n",
              "1                      10460                            19057   \n",
              "2                       2413                             4373   \n",
              "3                      50128                            87991   \n",
              "4                       7244                            13594   \n",
              "\n",
              "   Lifetime Engaged Users  Lifetime Post Consumers  \\\n",
              "0                     178                      109   \n",
              "1                    1457                     1361   \n",
              "2                     177                      113   \n",
              "3                    2211                      790   \n",
              "4                     671                      410   \n",
              "\n",
              "   Lifetime Post Consumptions  \\\n",
              "0                         159   \n",
              "1                        1674   \n",
              "2                         154   \n",
              "3                        1119   \n",
              "4                         580   \n",
              "\n",
              "   Lifetime Post Impressions by people who have liked your Page  \\\n",
              "0                                               3078              \n",
              "1                                              11710              \n",
              "2                                               2812              \n",
              "3                                              61027              \n",
              "4                                               6228              \n",
              "\n",
              "   Lifetime Post reach by people who like your Page   LPE  comment    like  \\\n",
              "0                                              1640   119        4    79.0   \n",
              "1                                              6112  1108        5   130.0   \n",
              "2                                              1503   132        0    66.0   \n",
              "3                                             32048  1386       58  1572.0   \n",
              "4                                              3200   396       19   325.0   \n",
              "\n",
              "   share  Total Interactions  \n",
              "0   17.0                 100  \n",
              "1   29.0                 164  \n",
              "2   14.0                  80  \n",
              "3  147.0                1777  \n",
              "4   49.0                 393  "
            ],
            "text/html": [
              "\n",
              "  <div id=\"df-9c38e418-0f96-48b7-b8d0-8cf80c0999ef\">\n",
              "    <div class=\"colab-df-container\">\n",
              "      <div>\n",
              "<style scoped>\n",
              "    .dataframe tbody tr th:only-of-type {\n",
              "        vertical-align: middle;\n",
              "    }\n",
              "\n",
              "    .dataframe tbody tr th {\n",
              "        vertical-align: top;\n",
              "    }\n",
              "\n",
              "    .dataframe thead th {\n",
              "        text-align: right;\n",
              "    }\n",
              "</style>\n",
              "<table border=\"1\" class=\"dataframe\">\n",
              "  <thead>\n",
              "    <tr style=\"text-align: right;\">\n",
              "      <th></th>\n",
              "      <th>PageTotalLikes</th>\n",
              "      <th>Type</th>\n",
              "      <th>Category</th>\n",
              "      <th>PostMonth</th>\n",
              "      <th>PostWeekday</th>\n",
              "      <th>PostHour</th>\n",
              "      <th>Paid</th>\n",
              "      <th>Lifetime Post Total Reach</th>\n",
              "      <th>Lifetime Post Total Impressions</th>\n",
              "      <th>Lifetime Engaged Users</th>\n",
              "      <th>Lifetime Post Consumers</th>\n",
              "      <th>Lifetime Post Consumptions</th>\n",
              "      <th>Lifetime Post Impressions by people who have liked your Page</th>\n",
              "      <th>Lifetime Post reach by people who like your Page</th>\n",
              "      <th>LPE</th>\n",
              "      <th>comment</th>\n",
              "      <th>like</th>\n",
              "      <th>share</th>\n",
              "      <th>Total Interactions</th>\n",
              "    </tr>\n",
              "  </thead>\n",
              "  <tbody>\n",
              "    <tr>\n",
              "      <th>0</th>\n",
              "      <td>139441</td>\n",
              "      <td>Photo</td>\n",
              "      <td>2</td>\n",
              "      <td>12</td>\n",
              "      <td>4</td>\n",
              "      <td>3</td>\n",
              "      <td>0.0</td>\n",
              "      <td>2752</td>\n",
              "      <td>5091</td>\n",
              "      <td>178</td>\n",
              "      <td>109</td>\n",
              "      <td>159</td>\n",
              "      <td>3078</td>\n",
              "      <td>1640</td>\n",
              "      <td>119</td>\n",
              "      <td>4</td>\n",
              "      <td>79.0</td>\n",
              "      <td>17.0</td>\n",
              "      <td>100</td>\n",
              "    </tr>\n",
              "    <tr>\n",
              "      <th>1</th>\n",
              "      <td>139441</td>\n",
              "      <td>Status</td>\n",
              "      <td>2</td>\n",
              "      <td>12</td>\n",
              "      <td>3</td>\n",
              "      <td>10</td>\n",
              "      <td>0.0</td>\n",
              "      <td>10460</td>\n",
              "      <td>19057</td>\n",
              "      <td>1457</td>\n",
              "      <td>1361</td>\n",
              "      <td>1674</td>\n",
              "      <td>11710</td>\n",
              "      <td>6112</td>\n",
              "      <td>1108</td>\n",
              "      <td>5</td>\n",
              "      <td>130.0</td>\n",
              "      <td>29.0</td>\n",
              "      <td>164</td>\n",
              "    </tr>\n",
              "    <tr>\n",
              "      <th>2</th>\n",
              "      <td>139441</td>\n",
              "      <td>Photo</td>\n",
              "      <td>3</td>\n",
              "      <td>12</td>\n",
              "      <td>3</td>\n",
              "      <td>3</td>\n",
              "      <td>0.0</td>\n",
              "      <td>2413</td>\n",
              "      <td>4373</td>\n",
              "      <td>177</td>\n",
              "      <td>113</td>\n",
              "      <td>154</td>\n",
              "      <td>2812</td>\n",
              "      <td>1503</td>\n",
              "      <td>132</td>\n",
              "      <td>0</td>\n",
              "      <td>66.0</td>\n",
              "      <td>14.0</td>\n",
              "      <td>80</td>\n",
              "    </tr>\n",
              "    <tr>\n",
              "      <th>3</th>\n",
              "      <td>139441</td>\n",
              "      <td>Photo</td>\n",
              "      <td>2</td>\n",
              "      <td>12</td>\n",
              "      <td>2</td>\n",
              "      <td>10</td>\n",
              "      <td>1.0</td>\n",
              "      <td>50128</td>\n",
              "      <td>87991</td>\n",
              "      <td>2211</td>\n",
              "      <td>790</td>\n",
              "      <td>1119</td>\n",
              "      <td>61027</td>\n",
              "      <td>32048</td>\n",
              "      <td>1386</td>\n",
              "      <td>58</td>\n",
              "      <td>1572.0</td>\n",
              "      <td>147.0</td>\n",
              "      <td>1777</td>\n",
              "    </tr>\n",
              "    <tr>\n",
              "      <th>4</th>\n",
              "      <td>139441</td>\n",
              "      <td>Photo</td>\n",
              "      <td>2</td>\n",
              "      <td>12</td>\n",
              "      <td>2</td>\n",
              "      <td>3</td>\n",
              "      <td>0.0</td>\n",
              "      <td>7244</td>\n",
              "      <td>13594</td>\n",
              "      <td>671</td>\n",
              "      <td>410</td>\n",
              "      <td>580</td>\n",
              "      <td>6228</td>\n",
              "      <td>3200</td>\n",
              "      <td>396</td>\n",
              "      <td>19</td>\n",
              "      <td>325.0</td>\n",
              "      <td>49.0</td>\n",
              "      <td>393</td>\n",
              "    </tr>\n",
              "  </tbody>\n",
              "</table>\n",
              "</div>\n",
              "      <button class=\"colab-df-convert\" onclick=\"convertToInteractive('df-9c38e418-0f96-48b7-b8d0-8cf80c0999ef')\"\n",
              "              title=\"Convert this dataframe to an interactive table.\"\n",
              "              style=\"display:none;\">\n",
              "        \n",
              "  <svg xmlns=\"http://www.w3.org/2000/svg\" height=\"24px\"viewBox=\"0 0 24 24\"\n",
              "       width=\"24px\">\n",
              "    <path d=\"M0 0h24v24H0V0z\" fill=\"none\"/>\n",
              "    <path d=\"M18.56 5.44l.94 2.06.94-2.06 2.06-.94-2.06-.94-.94-2.06-.94 2.06-2.06.94zm-11 1L8.5 8.5l.94-2.06 2.06-.94-2.06-.94L8.5 2.5l-.94 2.06-2.06.94zm10 10l.94 2.06.94-2.06 2.06-.94-2.06-.94-.94-2.06-.94 2.06-2.06.94z\"/><path d=\"M17.41 7.96l-1.37-1.37c-.4-.4-.92-.59-1.43-.59-.52 0-1.04.2-1.43.59L10.3 9.45l-7.72 7.72c-.78.78-.78 2.05 0 2.83L4 21.41c.39.39.9.59 1.41.59.51 0 1.02-.2 1.41-.59l7.78-7.78 2.81-2.81c.8-.78.8-2.07 0-2.86zM5.41 20L4 18.59l7.72-7.72 1.47 1.35L5.41 20z\"/>\n",
              "  </svg>\n",
              "      </button>\n",
              "      \n",
              "  <style>\n",
              "    .colab-df-container {\n",
              "      display:flex;\n",
              "      flex-wrap:wrap;\n",
              "      gap: 12px;\n",
              "    }\n",
              "\n",
              "    .colab-df-convert {\n",
              "      background-color: #E8F0FE;\n",
              "      border: none;\n",
              "      border-radius: 50%;\n",
              "      cursor: pointer;\n",
              "      display: none;\n",
              "      fill: #1967D2;\n",
              "      height: 32px;\n",
              "      padding: 0 0 0 0;\n",
              "      width: 32px;\n",
              "    }\n",
              "\n",
              "    .colab-df-convert:hover {\n",
              "      background-color: #E2EBFA;\n",
              "      box-shadow: 0px 1px 2px rgba(60, 64, 67, 0.3), 0px 1px 3px 1px rgba(60, 64, 67, 0.15);\n",
              "      fill: #174EA6;\n",
              "    }\n",
              "\n",
              "    [theme=dark] .colab-df-convert {\n",
              "      background-color: #3B4455;\n",
              "      fill: #D2E3FC;\n",
              "    }\n",
              "\n",
              "    [theme=dark] .colab-df-convert:hover {\n",
              "      background-color: #434B5C;\n",
              "      box-shadow: 0px 1px 3px 1px rgba(0, 0, 0, 0.15);\n",
              "      filter: drop-shadow(0px 1px 2px rgba(0, 0, 0, 0.3));\n",
              "      fill: #FFFFFF;\n",
              "    }\n",
              "  </style>\n",
              "\n",
              "      <script>\n",
              "        const buttonEl =\n",
              "          document.querySelector('#df-9c38e418-0f96-48b7-b8d0-8cf80c0999ef button.colab-df-convert');\n",
              "        buttonEl.style.display =\n",
              "          google.colab.kernel.accessAllowed ? 'block' : 'none';\n",
              "\n",
              "        async function convertToInteractive(key) {\n",
              "          const element = document.querySelector('#df-9c38e418-0f96-48b7-b8d0-8cf80c0999ef');\n",
              "          const dataTable =\n",
              "            await google.colab.kernel.invokeFunction('convertToInteractive',\n",
              "                                                     [key], {});\n",
              "          if (!dataTable) return;\n",
              "\n",
              "          const docLinkHtml = 'Like what you see? Visit the ' +\n",
              "            '<a target=\"_blank\" href=https://colab.research.google.com/notebooks/data_table.ipynb>data table notebook</a>'\n",
              "            + ' to learn more about interactive tables.';\n",
              "          element.innerHTML = '';\n",
              "          dataTable['output_type'] = 'display_data';\n",
              "          await google.colab.output.renderOutput(dataTable, element);\n",
              "          const docLink = document.createElement('div');\n",
              "          docLink.innerHTML = docLinkHtml;\n",
              "          element.appendChild(docLink);\n",
              "        }\n",
              "      </script>\n",
              "    </div>\n",
              "  </div>\n",
              "  "
            ]
          },
          "metadata": {},
          "execution_count": 5
        }
      ]
    },
    {
      "cell_type": "code",
      "source": [
        "variables = ['PageTotalLikes', 'Type', 'Category', 'PostMonth', 'PostWeekday', 'PostHour', 'Paid']\n",
        "variable_sal = ['LPE']\n",
        "X, y = miDF[variables], miDF[variable_sal]\n"
      ],
      "metadata": {
        "id": "sVx81WvIrwiH"
      },
      "execution_count": 6,
      "outputs": []
    },
    {
      "cell_type": "markdown",
      "source": [
        "#**Ejercicio-2.**\n",
        "\n",
        "Realiza una partición de los datos con 100 datos de Prueba y el resto para entrenamiento y \n",
        "validación."
      ],
      "metadata": {
        "id": "xZhr2hkECzVv"
      }
    },
    {
      "cell_type": "code",
      "source": [
        "#Realiza una partición de los datos en el conjunto de entrenamiento del 80% y el de prueba de 20%.\n",
        "X_train, X_test, y_train, y_test = train_test_split(X, y, test_size=.20, random_state=10)\n",
        "print(f'\\nEl tamaño de las variables de entrenamiento es de: {X_train.shape}')\n",
        "print(f'El tamaño de las variables de prueba es de: {X_test.shape}\\n')"
      ],
      "metadata": {
        "id": "kGfAoOPkC1PP",
        "outputId": "ac584864-49e4-4b57-ab5a-e43ea8d424dd",
        "colab": {
          "base_uri": "https://localhost:8080/"
        }
      },
      "execution_count": 8,
      "outputs": [
        {
          "output_type": "stream",
          "name": "stdout",
          "text": [
            "\n",
            "El tamaño de las variables de entrenamiento es de: (400, 7)\n",
            "El tamaño de las variables de prueba es de: (100, 7)\n",
            "\n"
          ]
        }
      ]
    },
    {
      "cell_type": "code",
      "source": [
        "X_train.describe()"
      ],
      "metadata": {
        "id": "GOydw5OGC1MJ",
        "colab": {
          "base_uri": "https://localhost:8080/",
          "height": 300
        },
        "outputId": "b94bb96a-1387-4a91-dbe2-ce4c5b9cfc1b"
      },
      "execution_count": 9,
      "outputs": [
        {
          "output_type": "execute_result",
          "data": {
            "text/plain": [
              "       PageTotalLikes    Category   PostMonth  PostWeekday   PostHour  \\\n",
              "count      400.000000  400.000000  400.000000   400.000000  400.00000   \n",
              "mean    123039.272500    1.872500    7.012500     4.122500    7.79750   \n",
              "std      16200.661431    0.850324    3.317357     2.024287    4.24931   \n",
              "min      81370.000000    1.000000    1.000000     1.000000    1.00000   \n",
              "25%     111620.000000    1.000000    4.000000     2.000000    3.00000   \n",
              "50%     129600.000000    2.000000    7.000000     4.000000    9.00000   \n",
              "75%     136393.000000    3.000000   10.000000     6.000000   11.00000   \n",
              "max     139441.000000    3.000000   12.000000     7.000000   20.00000   \n",
              "\n",
              "             Paid  \n",
              "count  399.000000  \n",
              "mean     0.270677  \n",
              "std      0.444867  \n",
              "min      0.000000  \n",
              "25%      0.000000  \n",
              "50%      0.000000  \n",
              "75%      1.000000  \n",
              "max      1.000000  "
            ],
            "text/html": [
              "\n",
              "  <div id=\"df-e46f51cb-71b3-40c4-90d8-d4f19c86435e\">\n",
              "    <div class=\"colab-df-container\">\n",
              "      <div>\n",
              "<style scoped>\n",
              "    .dataframe tbody tr th:only-of-type {\n",
              "        vertical-align: middle;\n",
              "    }\n",
              "\n",
              "    .dataframe tbody tr th {\n",
              "        vertical-align: top;\n",
              "    }\n",
              "\n",
              "    .dataframe thead th {\n",
              "        text-align: right;\n",
              "    }\n",
              "</style>\n",
              "<table border=\"1\" class=\"dataframe\">\n",
              "  <thead>\n",
              "    <tr style=\"text-align: right;\">\n",
              "      <th></th>\n",
              "      <th>PageTotalLikes</th>\n",
              "      <th>Category</th>\n",
              "      <th>PostMonth</th>\n",
              "      <th>PostWeekday</th>\n",
              "      <th>PostHour</th>\n",
              "      <th>Paid</th>\n",
              "    </tr>\n",
              "  </thead>\n",
              "  <tbody>\n",
              "    <tr>\n",
              "      <th>count</th>\n",
              "      <td>400.000000</td>\n",
              "      <td>400.000000</td>\n",
              "      <td>400.000000</td>\n",
              "      <td>400.000000</td>\n",
              "      <td>400.00000</td>\n",
              "      <td>399.000000</td>\n",
              "    </tr>\n",
              "    <tr>\n",
              "      <th>mean</th>\n",
              "      <td>123039.272500</td>\n",
              "      <td>1.872500</td>\n",
              "      <td>7.012500</td>\n",
              "      <td>4.122500</td>\n",
              "      <td>7.79750</td>\n",
              "      <td>0.270677</td>\n",
              "    </tr>\n",
              "    <tr>\n",
              "      <th>std</th>\n",
              "      <td>16200.661431</td>\n",
              "      <td>0.850324</td>\n",
              "      <td>3.317357</td>\n",
              "      <td>2.024287</td>\n",
              "      <td>4.24931</td>\n",
              "      <td>0.444867</td>\n",
              "    </tr>\n",
              "    <tr>\n",
              "      <th>min</th>\n",
              "      <td>81370.000000</td>\n",
              "      <td>1.000000</td>\n",
              "      <td>1.000000</td>\n",
              "      <td>1.000000</td>\n",
              "      <td>1.00000</td>\n",
              "      <td>0.000000</td>\n",
              "    </tr>\n",
              "    <tr>\n",
              "      <th>25%</th>\n",
              "      <td>111620.000000</td>\n",
              "      <td>1.000000</td>\n",
              "      <td>4.000000</td>\n",
              "      <td>2.000000</td>\n",
              "      <td>3.00000</td>\n",
              "      <td>0.000000</td>\n",
              "    </tr>\n",
              "    <tr>\n",
              "      <th>50%</th>\n",
              "      <td>129600.000000</td>\n",
              "      <td>2.000000</td>\n",
              "      <td>7.000000</td>\n",
              "      <td>4.000000</td>\n",
              "      <td>9.00000</td>\n",
              "      <td>0.000000</td>\n",
              "    </tr>\n",
              "    <tr>\n",
              "      <th>75%</th>\n",
              "      <td>136393.000000</td>\n",
              "      <td>3.000000</td>\n",
              "      <td>10.000000</td>\n",
              "      <td>6.000000</td>\n",
              "      <td>11.00000</td>\n",
              "      <td>1.000000</td>\n",
              "    </tr>\n",
              "    <tr>\n",
              "      <th>max</th>\n",
              "      <td>139441.000000</td>\n",
              "      <td>3.000000</td>\n",
              "      <td>12.000000</td>\n",
              "      <td>7.000000</td>\n",
              "      <td>20.00000</td>\n",
              "      <td>1.000000</td>\n",
              "    </tr>\n",
              "  </tbody>\n",
              "</table>\n",
              "</div>\n",
              "      <button class=\"colab-df-convert\" onclick=\"convertToInteractive('df-e46f51cb-71b3-40c4-90d8-d4f19c86435e')\"\n",
              "              title=\"Convert this dataframe to an interactive table.\"\n",
              "              style=\"display:none;\">\n",
              "        \n",
              "  <svg xmlns=\"http://www.w3.org/2000/svg\" height=\"24px\"viewBox=\"0 0 24 24\"\n",
              "       width=\"24px\">\n",
              "    <path d=\"M0 0h24v24H0V0z\" fill=\"none\"/>\n",
              "    <path d=\"M18.56 5.44l.94 2.06.94-2.06 2.06-.94-2.06-.94-.94-2.06-.94 2.06-2.06.94zm-11 1L8.5 8.5l.94-2.06 2.06-.94-2.06-.94L8.5 2.5l-.94 2.06-2.06.94zm10 10l.94 2.06.94-2.06 2.06-.94-2.06-.94-.94-2.06-.94 2.06-2.06.94z\"/><path d=\"M17.41 7.96l-1.37-1.37c-.4-.4-.92-.59-1.43-.59-.52 0-1.04.2-1.43.59L10.3 9.45l-7.72 7.72c-.78.78-.78 2.05 0 2.83L4 21.41c.39.39.9.59 1.41.59.51 0 1.02-.2 1.41-.59l7.78-7.78 2.81-2.81c.8-.78.8-2.07 0-2.86zM5.41 20L4 18.59l7.72-7.72 1.47 1.35L5.41 20z\"/>\n",
              "  </svg>\n",
              "      </button>\n",
              "      \n",
              "  <style>\n",
              "    .colab-df-container {\n",
              "      display:flex;\n",
              "      flex-wrap:wrap;\n",
              "      gap: 12px;\n",
              "    }\n",
              "\n",
              "    .colab-df-convert {\n",
              "      background-color: #E8F0FE;\n",
              "      border: none;\n",
              "      border-radius: 50%;\n",
              "      cursor: pointer;\n",
              "      display: none;\n",
              "      fill: #1967D2;\n",
              "      height: 32px;\n",
              "      padding: 0 0 0 0;\n",
              "      width: 32px;\n",
              "    }\n",
              "\n",
              "    .colab-df-convert:hover {\n",
              "      background-color: #E2EBFA;\n",
              "      box-shadow: 0px 1px 2px rgba(60, 64, 67, 0.3), 0px 1px 3px 1px rgba(60, 64, 67, 0.15);\n",
              "      fill: #174EA6;\n",
              "    }\n",
              "\n",
              "    [theme=dark] .colab-df-convert {\n",
              "      background-color: #3B4455;\n",
              "      fill: #D2E3FC;\n",
              "    }\n",
              "\n",
              "    [theme=dark] .colab-df-convert:hover {\n",
              "      background-color: #434B5C;\n",
              "      box-shadow: 0px 1px 3px 1px rgba(0, 0, 0, 0.15);\n",
              "      filter: drop-shadow(0px 1px 2px rgba(0, 0, 0, 0.3));\n",
              "      fill: #FFFFFF;\n",
              "    }\n",
              "  </style>\n",
              "\n",
              "      <script>\n",
              "        const buttonEl =\n",
              "          document.querySelector('#df-e46f51cb-71b3-40c4-90d8-d4f19c86435e button.colab-df-convert');\n",
              "        buttonEl.style.display =\n",
              "          google.colab.kernel.accessAllowed ? 'block' : 'none';\n",
              "\n",
              "        async function convertToInteractive(key) {\n",
              "          const element = document.querySelector('#df-e46f51cb-71b3-40c4-90d8-d4f19c86435e');\n",
              "          const dataTable =\n",
              "            await google.colab.kernel.invokeFunction('convertToInteractive',\n",
              "                                                     [key], {});\n",
              "          if (!dataTable) return;\n",
              "\n",
              "          const docLinkHtml = 'Like what you see? Visit the ' +\n",
              "            '<a target=\"_blank\" href=https://colab.research.google.com/notebooks/data_table.ipynb>data table notebook</a>'\n",
              "            + ' to learn more about interactive tables.';\n",
              "          element.innerHTML = '';\n",
              "          dataTable['output_type'] = 'display_data';\n",
              "          await google.colab.output.renderOutput(dataTable, element);\n",
              "          const docLink = document.createElement('div');\n",
              "          docLink.innerHTML = docLinkHtml;\n",
              "          element.appendChild(docLink);\n",
              "        }\n",
              "      </script>\n",
              "    </div>\n",
              "  </div>\n",
              "  "
            ]
          },
          "metadata": {},
          "execution_count": 9
        }
      ]
    },
    {
      "cell_type": "markdown",
      "source": [
        "#**Ejercicio-3.**\n",
        "\n",
        "Definirás tus propias funciones de errores para este problema de regresión. Los errores que \n",
        "utilizarás son la raíz cuadrada del error cuadrático medio RMSE, el error absoluto medio MAE y el \n",
        "error porcentual absoluto medio MAPE. "
      ],
      "metadata": {
        "id": "NCunuooTC2W3"
      }
    },
    {
      "cell_type": "code",
      "source": [
        "# función: mi_RMSE:\n",
        "def mi_RMSE(yreal, ypred):\n",
        "  MSE= np.mean(np.square(yreal-ypred))\n",
        "  RMSE = MSE**(1/2)\n",
        "  return RMSE\n",
        "\n",
        "# función: mi_MAE:\n",
        "def mi_MAE(yreal, ypred):\n",
        "  MAE= np.mean(np.abs(yreal-ypred))\n",
        "  return MAE\n",
        "  \n",
        "\n",
        "#  función: mi_MAPE:\n",
        "def mi_MAPE(yreal,ypred):\n",
        "  MAPE= np.mean(np.abs((yreal-ypred)/yreal))*100\n",
        "  return MAPE\n"
      ],
      "metadata": {
        "id": "YXlcSWA-C4Dj"
      },
      "execution_count": 10,
      "outputs": []
    },
    {
      "cell_type": "markdown",
      "source": [
        "#**Ejercicio-4.**\n",
        "\n",
        "En la página de la UCI, así como en el artículo de los autores previamente citado encuentras \n",
        "información en relación al significado de cada variable. Haz una análisis de tus datos y lleva a cabo \n",
        "las transformaciones que consideres adecuadas tanto en los datos de entrada, como en las de salida. \n",
        "Utiliza un Pipeline para evitar el filtrado de información. "
      ],
      "metadata": {
        "id": "imJQRnadpjHW"
      }
    },
    {
      "cell_type": "code",
      "source": [
        "var_categoricas = ['Type','Category']\n",
        "var_cuantitativas= [\"PageTotalLikes\"]\n",
        "var_ordinales= [\"PostMonth\",\"PostHour\",\"PostWeekday\"]\n",
        "var_binaria= [\"Paid\"]\n",
        "\n",
        "\n",
        "## Revision de distribucion Variables de entrada\n",
        "\n",
        "sns.set(rc = {'figure.figsize':(20, 5)})\n",
        "fig, axes = plt.subplots(1, 8)\n",
        "\n",
        "for k in range(0, 7):  \n",
        "  plt.subplot(1, 7, k+1)\n",
        "  Transf0 = X_train[variables].iloc[:, k].to_numpy().reshape(-1, 1)  \n",
        "  plt.hist(Transf0, bins=20)  \n",
        "  plt.xlabel(variables[k])  \n",
        "  if k == 0:\n",
        "    plt.ylabel('Iniciales')\n",
        "\n",
        "\n"
      ],
      "metadata": {
        "id": "RBVSFwK4C6g9",
        "outputId": "2a427072-b8ee-42df-8920-3b4c39195a76",
        "colab": {
          "base_uri": "https://localhost:8080/",
          "height": 339
        }
      },
      "execution_count": 11,
      "outputs": [
        {
          "output_type": "display_data",
          "data": {
            "text/plain": [
              "<Figure size 1440x360 with 7 Axes>"
            ],
            "image/png": "[encoded data removed]"
          },
          "metadata": {}
        }
      ]
    },
    {
      "cell_type": "code",
      "source": [
        "# Variables de SAlida\n",
        "\n",
        "sns.set(rc = {'figure.figsize':(20, 5)})\n",
        "fig, axes = plt.subplots(1, 1)\n",
        "plt.subplot(1, 1, 1)  \n",
        "plt.hist(y_train[variable_sal[0]], bins=20)  \n",
        "plt.xlabel(variable_sal[0])   \n",
        "plt.ylabel('Iniciales')"
      ],
      "metadata": {
        "id": "hYTN5DHZ1FAX",
        "outputId": "58969c71-71eb-4526-be11-b07b12b5715f",
        "colab": {
          "base_uri": "https://localhost:8080/",
          "height": 356
        }
      },
      "execution_count": 15,
      "outputs": [
        {
          "output_type": "execute_result",
          "data": {
            "text/plain": [
              "Text(0, 0.5, 'Iniciales')"
            ]
          },
          "metadata": {},
          "execution_count": 15
        },
        {
          "output_type": "display_data",
          "data": {
            "text/plain": [
              "<Figure size 1440x360 with 1 Axes>"
            ],
            "image/png": "[encoded data removed]"
          },
          "metadata": {}
        }
      ]
    },
    {
      "cell_type": "code",
      "source": [],
      "metadata": {
        "id": "IVI-nfk01mJm",
        "outputId": "19cbdd87-4a2d-4759-9cb6-7869b7fce2bf",
        "colab": {
          "base_uri": "https://localhost:8080/"
        }
      },
      "execution_count": 24,
      "outputs": [
        {
          "output_type": "execute_result",
          "data": {
            "text/plain": [
              "['LPE']"
            ]
          },
          "metadata": {},
          "execution_count": 24
        }
      ]
    },
    {
      "cell_type": "code",
      "source": [
        "\n",
        "#pipeline variables categoricas\n",
        "\n",
        "Pipeline_Categoricas = Pipeline(steps = [('impModa', SimpleImputer(strategy='most_frequent')),('OneHotE', OneHotEncoder(handle_unknown=\"ignore\"))])\n",
        "\n",
        "#pipeline variables Cuantitativas\n",
        "Pipeline_Cuantitativas = Pipeline(steps = [('impMediana', SimpleImputer(strategy='median')), ('scalar', MinMaxScaler(feature_range=(0,1)))])\n",
        "\n",
        "#pipeline variables Ordinales\n",
        "Pipeline_Ordinales= Pipeline(steps = [('ImpMediana', SimpleImputer(strategy='median')), ('scalar', MinMaxScaler(feature_range=(0,1)))])\n",
        "\n",
        "#pipeline variables binarias\n",
        "Pipeline_Binarias = Pipeline(steps = [('impModa', SimpleImputer(strategy='most_frequent')),('OneHotE', OneHotEncoder(handle_unknown=\"ignore\"))])\n",
        "\n",
        "\n",
        "ColumnasTransformadas = ColumnTransformer(transformers=[('Categoricas', Pipeline_Categoricas, var_categoricas), \n",
        "                                            ('Cuantitativas', Pipeline_Cuantitativas , var_cuantitativas),\n",
        "                                             ('ordinales', Pipeline_Ordinales , var_ordinales),\n",
        "                                            ('binarias', Pipeline_Binarias, var_binaria)])\n",
        "\n"
      ],
      "metadata": {
        "id": "ev9ZTDuj0jd3"
      },
      "execution_count": 16,
      "outputs": []
    },
    {
      "cell_type": "markdown",
      "source": [
        "#**Ejercicio-5.**\n",
        "\n",
        " Utiliza la función Dummy para modelos de regresión de scikit-learn con el conjunto que tienes de \n",
        "datos de entrenamiento y validación. Para ello particiónalos en 100 para validación y 300 para \n",
        "entrenamiento. Encuentra los errores RMSE, MAE y MAPE para los conjuntos de entrenamiento y \n",
        "validación. Estos serán tus errores máximos que deberás tomar como referencia en el resto de la \n",
        "actividad. Consulta su documentación correspondiente:  \n",
        "https://scikit-learn.org/stable/modules/generated/sklearn.dummy.DummyRegressor.html  \n",
        " "
      ],
      "metadata": {
        "id": "Rv7KFq-mC7PS"
      }
    },
    {
      "cell_type": "code",
      "source": [
        "## Seleccion tados de entrenamiento e validacion\n",
        "X_train2, X_val, y_train2, y_val = train_test_split(X_train, y_train, test_size=0.25, random_state = 0)\n",
        "\n",
        "dummyRegre = DummyRegressor(strategy = 'median')\n",
        "pipeline = Pipeline(steps = [('ct', ColumnasTransformadas), ('m', dummyRegre)])\n",
        "\n",
        "modelo = TransformedTargetRegressor(regressor = pipeline\n",
        "                                    )\n",
        "modelo.fit(X_train2, y_train2)\n",
        "yTestHat = modelo.predict(X_val)\n",
        "yTrainHat = modelo.predict(X_train2)\n",
        "\n",
        "print('\\n--------- Datos de Validación ---------\\n')\n",
        "print('RMSE con Regresión Dummy:{:.2f}'.format(mi_RMSE(y_val, yTestHat)))\n",
        "print('MAE con Regresión Dummy:{:.2f}'.format(mi_MAE(y_val, yTestHat)))\n",
        "print('MAPE con Regresión Dummy:{:.2f}'.format(mi_MAPE(y_val, yTestHat)))\n",
        "print('\\n--------- Datos de Entrenamiento ---------\\n')\n",
        "print('RMSE con Regresión Dummy:{:.2f}'.format(mi_RMSE(y_val, yTestHat)))\n",
        "print('MAE con Regresión Dummy:{:.2f}'.format(mi_MAE(y_val, yTestHat)))\n",
        "print('MAPE con Regresión Dummy:{:.2f}'.format(mi_MAPE(y_val, yTestHat)))"
      ],
      "metadata": {
        "id": "jaDj3kawC9B6"
      },
      "execution_count": null,
      "outputs": []
    },
    {
      "cell_type": "markdown",
      "source": [
        "#**Ejercicio-6.**"
      ],
      "metadata": {
        "id": "W2S7LI0NC9wE"
      }
    },
    {
      "cell_type": "code",
      "source": [
        "#creamos la lista de modelos con sus nombres\n",
        "def Do_models():\n",
        "  #listas\n",
        "  modelos = list()\n",
        "  nombres = list()\n",
        "\n",
        "  # Modelo de Regresión Linear:\n",
        "  modelos.append(LinearRegression())\n",
        "  nombres.append('RegresionLin')\n",
        "\n",
        "  # Modelo de arbol de Decision:\n",
        "  modelos.append(MLPRegressor())\n",
        "  nombres.append('Perceptron')\n",
        "  \n",
        "  #modelo bosque aleatorio\n",
        "  modelos.append(RandomForestRegressor())\n",
        "  nombres.append('BosqueAleatorio')\n",
        "  \n",
        "  return modelos, nombres\n",
        "\n",
        "\n",
        "resultados = list()"
      ],
      "metadata": {
        "id": "x6uBleJUC_AU"
      },
      "execution_count": null,
      "outputs": []
    },
    {
      "cell_type": "code",
      "source": [
        "#creamos los modelos\n",
        "modelos, nombres = Do_models()  \n",
        "modelos"
      ],
      "metadata": {
        "colab": {
          "base_uri": "https://localhost:8080/"
        },
        "id": "vvm-li-vLIU2",
        "outputId": "6a05bb4e-d272-4519-bc19-a2ffeb1fd1c3"
      },
      "execution_count": null,
      "outputs": [
        {
          "output_type": "execute_result",
          "data": {
            "text/plain": [
              "[LinearRegression(), MLPRegressor(), RandomForestRegressor()]"
            ]
          },
          "metadata": {},
          "execution_count": 159
        }
      ]
    },
    {
      "cell_type": "code",
      "source": [
        "print(X_train)"
      ],
      "metadata": {
        "colab": {
          "base_uri": "https://localhost:8080/"
        },
        "id": "cF2cfmwlVBC0",
        "outputId": "b6817f30-e6a7-45c4-f8bd-f454b7a9d135"
      },
      "execution_count": null,
      "outputs": [
        {
          "output_type": "stream",
          "name": "stdout",
          "text": [
            "     Category  PageTotalLikes  Type  PostMonth  PostHour  PostWeekday  Paid\n",
            "305         3          124940     1          6         2            4   0.0\n",
            "107         2          136736     2         10         4            1   0.0\n",
            "350         2          116435     1          5         9            5   0.0\n",
            "334         2          119198     2          5         2            1   0.0\n",
            "142         2          136013     2         10         2            3   1.0\n",
            "..        ...             ...   ...        ...       ...          ...   ...\n",
            "320         1          123047     1          6        11            3   0.0\n",
            "15          2          138414     2         12        10            3   0.0\n",
            "484         3           86491     1          1         7            2   0.0\n",
            "125         1          136393     1         10         5            7   0.0\n",
            "265         3          128032     1          7        13            6   1.0\n",
            "\n",
            "[399 rows x 7 columns]\n"
          ]
        }
      ]
    },
    {
      "cell_type": "code",
      "source": [
        "for i in range(len(modelos)):\n",
        "\n",
        "#Kfold validacion cruzada de 5 particiones y 3 repeticiones\n",
        "  kfold = RepeatedStratifiedKFold(n_splits=5, n_repeats=3)\n",
        "#en pipeline ponemos las columnas transformadas y los modelos\n",
        "  pipeline = Pipeline(steps=[('ct',df_ColTransformadas),('m',modelos[i])])\n",
        " \n",
        "  resultadosOU = cross_validate(pipeline, X_train, y_train, scoring=mis_metricas, cv=kfold, return_train_score=True)\n",
        "  \n",
        "  resultados.append(resultadosOU)\n",
        "  \n",
        "  print(\"Prueba \\n\") \n",
        "  print('%s:\\nmean RMSE: %.3f (%.4f)\\nmean MAE: %.3f (%.4f)\\nmean MAPE: %.3f (%.4f)\\n' % (nombres[i],\n",
        "                                                                          np.mean(resultadosOU['test_RMSE']), np.std(resultadosOU['test_RMSE']), \n",
        "                                                                          np.mean(resultadosOU['test_MAE']),np.std(resultadosOU['test_MAE']), \n",
        "                                                                          np.mean(resultadosOU['test_MAPE']),np.std(resultadosOU['test_MAPE'])\n",
        "                                                                          ))\n",
        "  \n",
        "\n",
        "  print(\"Entrenamiento \\n\") \n",
        "  print('%s:\\nmean RMSE: %.3f (%.4f)\\nmean MAE: %.3f (%.4f)\\nmean MAPE: %.3f (%.4f)\\n' % (nombres[i],\n",
        "                                                                          np.mean(resultadosOU['train_RMSE']), np.std(resultadosOU['train_RMSE']), \n",
        "                                                                          np.mean(resultadosOU['train_MAE']),np.std(resultadosOU['train_MAE']), \n",
        "                                                                          np.mean(resultadosOU['train_MAPE']),np.std(resultadosOU['train_MAPE'])))"
      ],
      "metadata": {
        "id": "n0P_AcyjC_Dh",
        "colab": {
          "base_uri": "https://localhost:8080/"
        },
        "outputId": "cbeef840-9ae5-4d50-f178-f4dfe7144806"
      },
      "execution_count": null,
      "outputs": [
        {
          "output_type": "stream",
          "name": "stderr",
          "text": [
            "/usr/local/lib/python3.7/dist-packages/sklearn/model_selection/_split.py:680: UserWarning: The least populated class in y has only 1 members, which is less than n_splits=5.\n",
            "  UserWarning,\n",
            "/usr/local/lib/python3.7/dist-packages/sklearn/model_selection/_split.py:680: UserWarning: The least populated class in y has only 1 members, which is less than n_splits=5.\n",
            "  UserWarning,\n",
            "/usr/local/lib/python3.7/dist-packages/sklearn/model_selection/_split.py:680: UserWarning: The least populated class in y has only 1 members, which is less than n_splits=5.\n",
            "  UserWarning,\n"
          ]
        },
        {
          "output_type": "stream",
          "name": "stdout",
          "text": [
            "Prueba \n",
            "\n",
            "RegresionLin:\n",
            "mean RMSE: 501.452 (58.4800)\n",
            "mean MAE: 305.031 (32.5787)\n",
            "mean MAPE: 97.998 (45.9638)\n",
            "\n",
            "Entrenamiento \n",
            "\n",
            "RegresionLin:\n",
            "mean RMSE: 477.763 (15.2254)\n",
            "mean MAE: 288.279 (15.7105)\n",
            "mean MAPE: 93.903 (11.6521)\n",
            "\n"
          ]
        },
        {
          "output_type": "stream",
          "name": "stderr",
          "text": [
            "/usr/local/lib/python3.7/dist-packages/sklearn/model_selection/_split.py:680: UserWarning: The least populated class in y has only 1 members, which is less than n_splits=5.\n",
            "  UserWarning,\n",
            "/usr/local/lib/python3.7/dist-packages/sklearn/neural_network/_multilayer_perceptron.py:696: ConvergenceWarning: Stochastic Optimizer: Maximum iterations (200) reached and the optimization hasn't converged yet.\n",
            "  ConvergenceWarning,\n",
            "/usr/local/lib/python3.7/dist-packages/sklearn/neural_network/_multilayer_perceptron.py:696: ConvergenceWarning: Stochastic Optimizer: Maximum iterations (200) reached and the optimization hasn't converged yet.\n",
            "  ConvergenceWarning,\n",
            "/usr/local/lib/python3.7/dist-packages/sklearn/neural_network/_multilayer_perceptron.py:696: ConvergenceWarning: Stochastic Optimizer: Maximum iterations (200) reached and the optimization hasn't converged yet.\n",
            "  ConvergenceWarning,\n",
            "/usr/local/lib/python3.7/dist-packages/sklearn/neural_network/_multilayer_perceptron.py:696: ConvergenceWarning: Stochastic Optimizer: Maximum iterations (200) reached and the optimization hasn't converged yet.\n",
            "  ConvergenceWarning,\n",
            "/usr/local/lib/python3.7/dist-packages/sklearn/neural_network/_multilayer_perceptron.py:696: ConvergenceWarning: Stochastic Optimizer: Maximum iterations (200) reached and the optimization hasn't converged yet.\n",
            "  ConvergenceWarning,\n",
            "/usr/local/lib/python3.7/dist-packages/sklearn/model_selection/_split.py:680: UserWarning: The least populated class in y has only 1 members, which is less than n_splits=5.\n",
            "  UserWarning,\n",
            "/usr/local/lib/python3.7/dist-packages/sklearn/neural_network/_multilayer_perceptron.py:696: ConvergenceWarning: Stochastic Optimizer: Maximum iterations (200) reached and the optimization hasn't converged yet.\n",
            "  ConvergenceWarning,\n",
            "/usr/local/lib/python3.7/dist-packages/sklearn/neural_network/_multilayer_perceptron.py:696: ConvergenceWarning: Stochastic Optimizer: Maximum iterations (200) reached and the optimization hasn't converged yet.\n",
            "  ConvergenceWarning,\n",
            "/usr/local/lib/python3.7/dist-packages/sklearn/neural_network/_multilayer_perceptron.py:696: ConvergenceWarning: Stochastic Optimizer: Maximum iterations (200) reached and the optimization hasn't converged yet.\n",
            "  ConvergenceWarning,\n",
            "/usr/local/lib/python3.7/dist-packages/sklearn/neural_network/_multilayer_perceptron.py:696: ConvergenceWarning: Stochastic Optimizer: Maximum iterations (200) reached and the optimization hasn't converged yet.\n",
            "  ConvergenceWarning,\n",
            "/usr/local/lib/python3.7/dist-packages/sklearn/neural_network/_multilayer_perceptron.py:696: ConvergenceWarning: Stochastic Optimizer: Maximum iterations (200) reached and the optimization hasn't converged yet.\n",
            "  ConvergenceWarning,\n",
            "/usr/local/lib/python3.7/dist-packages/sklearn/model_selection/_split.py:680: UserWarning: The least populated class in y has only 1 members, which is less than n_splits=5.\n",
            "  UserWarning,\n",
            "/usr/local/lib/python3.7/dist-packages/sklearn/neural_network/_multilayer_perceptron.py:696: ConvergenceWarning: Stochastic Optimizer: Maximum iterations (200) reached and the optimization hasn't converged yet.\n",
            "  ConvergenceWarning,\n",
            "/usr/local/lib/python3.7/dist-packages/sklearn/neural_network/_multilayer_perceptron.py:696: ConvergenceWarning: Stochastic Optimizer: Maximum iterations (200) reached and the optimization hasn't converged yet.\n",
            "  ConvergenceWarning,\n",
            "/usr/local/lib/python3.7/dist-packages/sklearn/neural_network/_multilayer_perceptron.py:696: ConvergenceWarning: Stochastic Optimizer: Maximum iterations (200) reached and the optimization hasn't converged yet.\n",
            "  ConvergenceWarning,\n",
            "/usr/local/lib/python3.7/dist-packages/sklearn/neural_network/_multilayer_perceptron.py:696: ConvergenceWarning: Stochastic Optimizer: Maximum iterations (200) reached and the optimization hasn't converged yet.\n",
            "  ConvergenceWarning,\n",
            "/usr/local/lib/python3.7/dist-packages/sklearn/neural_network/_multilayer_perceptron.py:696: ConvergenceWarning: Stochastic Optimizer: Maximum iterations (200) reached and the optimization hasn't converged yet.\n",
            "  ConvergenceWarning,\n",
            "/usr/local/lib/python3.7/dist-packages/sklearn/model_selection/_split.py:680: UserWarning: The least populated class in y has only 1 members, which is less than n_splits=5.\n",
            "  UserWarning,\n"
          ]
        },
        {
          "output_type": "stream",
          "name": "stdout",
          "text": [
            "Prueba \n",
            "\n",
            "Perceptron:\n",
            "mean RMSE: 749.700 (77.7148)\n",
            "mean MAE: 468.227 (48.2038)\n",
            "mean MAPE: 70.939 (10.4251)\n",
            "\n",
            "Entrenamiento \n",
            "\n",
            "Perceptron:\n",
            "mean RMSE: 753.127 (21.2517)\n",
            "mean MAE: 467.799 (13.9744)\n",
            "mean MAPE: 70.192 (3.4089)\n",
            "\n"
          ]
        },
        {
          "output_type": "stream",
          "name": "stderr",
          "text": [
            "/usr/local/lib/python3.7/dist-packages/sklearn/model_selection/_split.py:680: UserWarning: The least populated class in y has only 1 members, which is less than n_splits=5.\n",
            "  UserWarning,\n",
            "/usr/local/lib/python3.7/dist-packages/sklearn/model_selection/_split.py:680: UserWarning: The least populated class in y has only 1 members, which is less than n_splits=5.\n",
            "  UserWarning,\n"
          ]
        },
        {
          "output_type": "stream",
          "name": "stdout",
          "text": [
            "Prueba \n",
            "\n",
            "BosqueAleatorio:\n",
            "mean RMSE: 540.530 (66.6527)\n",
            "mean MAE: 335.787 (41.4579)\n",
            "mean MAPE: 108.406 (59.8300)\n",
            "\n",
            "Entrenamiento \n",
            "\n",
            "BosqueAleatorio:\n",
            "mean RMSE: 206.185 (10.8082)\n",
            "mean MAE: 123.441 (6.8251)\n",
            "mean MAPE: 37.833 (3.7797)\n",
            "\n"
          ]
        }
      ]
    },
    {
      "cell_type": "code",
      "source": [
        "print(resultados)"
      ],
      "metadata": {
        "colab": {
          "base_uri": "https://localhost:8080/"
        },
        "id": "4BNy4E3aaFac",
        "outputId": "ea441b90-946e-442d-c40a-b142ac83be3a"
      },
      "execution_count": null,
      "outputs": [
        {
          "output_type": "stream",
          "name": "stdout",
          "text": [
            "[{'fit_time': array([0.02945995, 0.0226469 , 0.02889514, 0.02613473, 0.02366543,\n",
            "       0.02365422, 0.02982473, 0.02118206, 0.02300334, 0.0319283 ,\n",
            "       0.02177882, 0.03006744, 0.02170634, 0.02118921, 0.02505326]), 'score_time': array([0.01260972, 0.01120305, 0.01551104, 0.01424503, 0.01109099,\n",
            "       0.01358795, 0.01172018, 0.01166463, 0.01057935, 0.0162971 ,\n",
            "       0.01170063, 0.01362371, 0.01192832, 0.01315117, 0.0123198 ]), 'test_RMSE': array([462.18609618, 441.65397551, 550.72668191, 448.43721571,\n",
            "       600.20437949, 464.98184709, 433.69137932, 556.38614291,\n",
            "       470.27898635, 598.67459093, 465.43889966, 433.87410883,\n",
            "       556.16926558, 485.51734281, 553.56329988]), 'train_RMSE': array([485.60273442, 491.87165739, 465.97931705, 487.83805777,\n",
            "       451.57128575, 485.11760804, 494.33952327, 464.9832739 ,\n",
            "       500.80559553, 453.30318221, 484.79659791, 493.09249948,\n",
            "       465.10784095, 479.18080732, 462.85458911]), 'test_MAE': array([283.6375    , 276.36835337, 310.4007513 , 282.90216856,\n",
            "       363.29661931, 287.08459927, 256.6125    , 322.23359804,\n",
            "       325.325     , 368.20253165, 291.73975596, 256.64850589,\n",
            "       318.98034656, 301.70355909, 330.32857606]), 'train_MAE': array([295.62068966, 297.58274156, 274.74371019, 286.29500834,\n",
            "       271.44235972, 293.03176204, 306.27899687, 273.05968441,\n",
            "       329.54858934, 271.8125    , 292.32915698, 299.89283463,\n",
            "       272.92623294, 281.83676447, 277.78149387]), 'test_MAPE': array([ 75.73323276,  69.07603086,  45.10970482, 119.29364232,\n",
            "       172.40268562,  81.70787814,  59.77016501,  48.82750498,\n",
            "       138.71190277, 181.67461232,  82.99751393,  58.56724353,\n",
            "        47.54740489, 135.35041095, 153.1973223 ]), 'train_MAPE': array([103.33272059, 104.58128261,  93.13990658,  84.13868899,\n",
            "        75.69029728, 101.9713925 , 110.53467921,  92.09809404,\n",
            "       106.38075244,  76.86057055, 101.9624444 , 106.14210798,\n",
            "        92.08087436,  79.89308816,  79.7419302 ])}, {'fit_time': array([0.45254612, 0.43129468, 0.45143223, 0.41736174, 0.42565584,\n",
            "       0.39402604, 0.46029544, 0.4002614 , 0.39040709, 0.39943242,\n",
            "       0.39879823, 0.43345165, 0.37767553, 0.42497373, 0.39766335]), 'score_time': array([0.01704669, 0.02172351, 0.01872301, 0.01790285, 0.01915407,\n",
            "       0.02453852, 0.01706743, 0.01585746, 0.01925707, 0.01759624,\n",
            "       0.01758099, 0.01948571, 0.01724648, 0.13722754, 0.01730251]), 'test_RMSE': array([759.85038609, 647.99804264, 865.67943256, 690.17388688,\n",
            "       774.49823412, 761.25880024, 652.17923694, 873.07743027,\n",
            "       676.4412124 , 772.50281539, 765.05767402, 656.25130743,\n",
            "       883.54130099, 686.70698504, 780.28120415]), 'train_RMSE': array([747.21561196, 774.37754416, 716.92432204, 780.93529152,\n",
            "       736.32327417, 748.7755668 , 778.14521756, 724.08082703,\n",
            "       767.43459788, 734.26486535, 752.79653145, 781.95509992,\n",
            "       733.96012932, 776.93863071, 742.77736502]), 'test_MAE': array([440.25582923, 418.76130176, 548.43595555, 457.74774924,\n",
            "       460.86130218, 443.24079748, 424.26500839, 559.76686878,\n",
            "       438.58681855, 458.00523289, 448.62700097, 430.07745601,\n",
            "       573.30537567, 453.16801316, 468.29774484]), 'train_MAE': array([468.06410355, 475.58232589, 440.08450277, 488.36851457,\n",
            "       453.18267415, 470.19862421, 480.67313462, 450.17328022,\n",
            "       469.00477327, 450.34815624, 475.81149245, 486.36117109,\n",
            "       464.01061195, 482.73925283, 462.38727363]), 'test_MAPE': array([59.9253048 , 63.45667365, 63.87866429, 75.96576254, 87.39985148,\n",
            "       60.66950504, 64.59823973, 66.47740453, 70.18193385, 92.10208753,\n",
            "       61.83409372, 65.70847796, 69.38840405, 72.09454444, 90.40296002]), 'train_MAPE': array([71.96196707, 71.33966346, 70.83728874, 71.42822286, 64.02268056,\n",
            "       72.1973112 , 71.86496849, 71.99202323, 69.40892723, 62.48516981,\n",
            "       72.80435181, 72.66394334, 73.90979783, 71.38951163, 64.57147756])}, {'fit_time': array([0.26310802, 0.22159529, 0.19413686, 0.20640182, 0.19512844,\n",
            "       0.2078681 , 0.19794679, 0.19591284, 0.20069408, 0.20494676,\n",
            "       0.19588852, 0.21244812, 0.20199203, 0.21051478, 0.19175744]), 'score_time': array([0.02811527, 0.02198482, 0.02051449, 0.01992297, 0.0201323 ,\n",
            "       0.02135229, 0.02072382, 0.01991796, 0.02048874, 0.02846575,\n",
            "       0.02645087, 0.02245331, 0.02017188, 0.02018905, 0.02004838]), 'test_RMSE': array([551.68244593, 466.95657558, 568.18313498, 467.75180496,\n",
            "       635.37504756, 565.5603199 , 469.39865044, 580.97190567,\n",
            "       467.11271674, 641.01405795, 560.05222367, 467.05430635,\n",
            "       565.05185725, 459.67900126, 642.10526605]), 'train_RMSE': array([199.80133459, 222.79691903, 202.6100569 , 215.15393278,\n",
            "       202.67711706, 202.28260687, 222.58212295, 193.11805375,\n",
            "       214.52384817, 190.46840754, 199.81686254, 222.90932354,\n",
            "       193.30509487, 211.33164034, 199.40372447]), 'test_MAE': array([349.03223333, 278.53058542, 356.21032083, 303.67509167,\n",
            "       384.21686076, 353.19748958, 276.18476667, 361.04404583,\n",
            "       300.39395625, 390.48458228, 363.33354524, 273.61704792,\n",
            "       360.54118542, 296.00528125, 390.34550633]), 'train_MAE': array([122.66234065, 132.3651954 , 115.90454284, 127.98136468,\n",
            "       117.82842917, 123.20544932, 132.80100194, 117.28529049,\n",
            "       127.86786102, 113.88583125, 123.23573817, 134.90050731,\n",
            "       115.25735475, 129.32486073, 117.10344531]), 'test_MAPE': array([101.52370008,  68.30641881,  52.47870848,  97.24159172,\n",
            "       222.0869004 , 108.03137738,  66.3864302 ,  51.75859531,\n",
            "        90.87086253, 222.15113888, 108.04733507,  67.86700714,\n",
            "        53.38095851,  94.51693882, 221.44942815]), 'train_MAPE': array([37.3132498 , 41.79453158, 37.12206257, 40.25285806, 31.06441151,\n",
            "       39.10085427, 39.99517966, 38.01656193, 39.57033355, 30.21643971,\n",
            "       40.75784163, 42.01100139, 36.96389681, 41.62266831, 31.69465811])}]\n"
          ]
        }
      ]
    },
    {
      "cell_type": "markdown",
      "source": [
        "#**Ejercicio-7.**"
      ],
      "metadata": {
        "id": "iCNGx4TQ8CFI"
      }
    },
    {
      "cell_type": "code",
      "source": [
        "import matplotlib.pyplot as plt\n",
        "sns.set(rc={'figure.figsize':(8,4)})\n",
        "\n",
        "bpRecallTrain = list()\n",
        "\n",
        "for i in range(len(resultados)):\n",
        "  rr = resultados[i]['train_MAPE']\n",
        "  bpRecallTrain.append(rr)\n",
        "\n",
        "plt.boxplot(bpRecallTrain, labels=nombres, showmeans=True)\n",
        "plt.show()"
      ],
      "metadata": {
        "id": "ewvwUcJX78y1",
        "colab": {
          "base_uri": "https://localhost:8080/",
          "height": 268
        },
        "outputId": "28fc9c68-ddf3-4ce2-edd3-2083d66e693d"
      },
      "execution_count": null,
      "outputs": [
        {
          "output_type": "display_data",
          "data": {
            "text/plain": [
              "<Figure size 576x288 with 1 Axes>"
            ],
            "image/png": "[encoded data removed]"
          },
          "metadata": {}
        }
      ]
    },
    {
      "cell_type": "code",
      "source": [
        "\n",
        "sns.set(rc={'figure.figsize':(8,4)})\n",
        "\n",
        "bpRecallTest = list()\n",
        "\n",
        "for i in range(len(resultados)):\n",
        "  rr = resultados[i]['test_MAPE']\n",
        "  bpRecallTest.append(rr)\n",
        "\n",
        "plt.boxplot(bpRecallTest, labels=nombres, showmeans=True)\n",
        "plt.show()"
      ],
      "metadata": {
        "colab": {
          "base_uri": "https://localhost:8080/",
          "height": 268
        },
        "id": "nQSP_MaSa5Sd",
        "outputId": "e63b350a-85c3-464b-859e-9dadde066781"
      },
      "execution_count": null,
      "outputs": [
        {
          "output_type": "display_data",
          "data": {
            "text/plain": [
              "<Figure size 576x288 with 1 Axes>"
            ],
            "image/png": "[encoded data removed]"
          },
          "metadata": {}
        }
      ]
    },
    {
      "cell_type": "code",
      "source": [],
      "metadata": {
        "id": "F1aW0dQX8BLL"
      },
      "execution_count": null,
      "outputs": []
    },
    {
      "cell_type": "markdown",
      "source": [
        "#**Ejercicio-8.**\n",
        "\n",
        "Usando una búsqueda de malla con validación cruzada (GridSearchCV), busca los mejores \n",
        "hiperparámetros para el modelo MLP. Al menos deberás realizar la búsqueda en los \n",
        "hiperparámetros “hidden_layer_sizes”, “alpha” y “learning_rate_init”. Además aplica la validación \n",
        "cruzada con repeticiones (RepeatedKFold). Muestra los mejores hiperparámetros encontrados. "
      ],
      "metadata": {
        "id": "tzQn5NR78GFg"
      }
    },
    {
      "cell_type": "code",
      "source": [
        "mi_pipeCV = Pipeline(steps=[(\"DataPrep\", df_ColTransformadas),(\"model\", modelo_MLP)])\n",
        "print(mi_pipeCV)"
      ],
      "metadata": {
        "colab": {
          "base_uri": "https://localhost:8080/"
        },
        "id": "Dm2QYifSrIjp",
        "outputId": "537e8d9b-b539-402c-b745-5473050fb6cf"
      },
      "execution_count": null,
      "outputs": [
        {
          "output_type": "stream",
          "name": "stdout",
          "text": [
            "Pipeline(steps=[('DataPrep',\n",
            "                 ColumnTransformer(remainder='passthrough',\n",
            "                                   transformers=[('Numericas',\n",
            "                                                  Pipeline(steps=[('ImpMediana',\n",
            "                                                                   SimpleImputer(strategy='median')),\n",
            "                                                                  ('scalar',\n",
            "                                                                   MinMaxScaler())]),\n",
            "                                                  ['PostMonth', 'PostHour',\n",
            "                                                   'PostWeekday']),\n",
            "                                                 ('Categoricas',\n",
            "                                                  Pipeline(steps=[('impModa',\n",
            "                                                                   SimpleImputer(strategy='most_frequent')),\n",
            "                                                                  ('OneHotE',\n",
            "                                                                   OneHotEncoder(handle_unknow...\n",
            "                                                  ['Type', 'Category']),\n",
            "                                                 ('Cuantitativas',\n",
            "                                                  Pipeline(steps=[('impMediana',\n",
            "                                                                   SimpleImputer(strategy='median')),\n",
            "                                                                  ('scalar',\n",
            "                                                                   MinMaxScaler())]),\n",
            "                                                  ['PageTotalLikes']),\n",
            "                                                 ('binarias',\n",
            "                                                  Pipeline(steps=[('impModa',\n",
            "                                                                   SimpleImputer(strategy='most_frequent')),\n",
            "                                                                  ('OneHotE',\n",
            "                                                                   OneHotEncoder(handle_unknown='ignore'))]),\n",
            "                                                  ['Paid'])])),\n",
            "                ('model',\n",
            "                 MLPRegressor(hidden_layer_sizes=(1, 1), max_iter=20000))])\n"
          ]
        }
      ]
    },
    {
      "cell_type": "code",
      "source": [
        "#modelo_MLP = MLPRegressor(hidden_layer_sizes=(i,), \n",
        "modelo_MLP = MLPRegressor(hidden_layer_sizes=(1, 1),     # número de capas ocultas y nodos en cada capa.\n",
        "                            max_iter=20000,                # máximo número de iteraciones para el proceso de convergencia.\n",
        "                            alpha=0.0001,                  # constante asociado al término de regularización L2.\n",
        "                            solver='adam',                 # técnica de optimización.\n",
        "                            learning_rate_init=0.001       # valor inicial del tamaño de paso con relación a \"adam\" o \"sgd\".\n",
        "                            )  \n",
        "\n",
        "modelo_MLP.fit(X_train, y_train)\n",
        "\n",
        "mi_pipeCV = Pipeline(steps=[(\"DataPrep\", df_ColTransformadas),(\"model\", modelo_MLP)]) \n",
        "mi_kfoldCV = RepeatedStratifiedKFold(n_splits=5, n_repeats=3, random_state=7)  "
      ],
      "metadata": {
        "id": "EBKcp0278IQV",
        "colab": {
          "base_uri": "https://localhost:8080/"
        },
        "outputId": "193e4aba-0e96-4c01-8021-1e378070665f"
      },
      "execution_count": null,
      "outputs": [
        {
          "output_type": "stream",
          "name": "stderr",
          "text": [
            "/usr/local/lib/python3.7/dist-packages/sklearn/neural_network/_multilayer_perceptron.py:696: ConvergenceWarning: Stochastic Optimizer: Maximum iterations (20000) reached and the optimization hasn't converged yet.\n",
            "  ConvergenceWarning,\n"
          ]
        }
      ]
    },
    {
      "cell_type": "code",
      "source": [
        "\n",
        "\n",
        "ParamsGR = [{'hidden_layer_sizes': ['2,1'], 'alpha': [ '.0001'], 'learning_rate_init':['001']},\n",
        "                  {'hidden_layer_sizes': ['1,2'], 'alpha': [ '00005'], 'learning_rate_init':['0005']},\n",
        "                  {'hidden_layer_sizes': ['2,2'], 'alpha': [ '00001'], 'learning_rate_init':['0001']},\n",
        "                 ]"
      ],
      "metadata": {
        "id": "vp8S0PFs8IMR"
      },
      "execution_count": null,
      "outputs": []
    },
    {
      "cell_type": "code",
      "source": [
        "from sklearn.model_selection import GridSearchCV\n",
        "mi_Grid=  GridSearchCV (estimator =  mi_pipeCV, \n",
        "                            param_grid = ParamsGR,\n",
        "                            scoring = make_scorer(mi_MAPE),\n",
        "                            cv = mi_kfoldCV)"
      ],
      "metadata": {
        "id": "Dc72yaSLVd1W"
      },
      "execution_count": null,
      "outputs": []
    },
    {
      "cell_type": "code",
      "source": [
        "mi_Grid.fit(X_train, np.ravel(y_train))\n",
        "best_score = mi_Grid.best_score_\n",
        "best_param = mi_Grid.best_params_"
      ],
      "metadata": {
        "colab": {
          "base_uri": "https://localhost:8080/",
          "height": 973
        },
        "id": "V61lP4J8VgPa",
        "outputId": "b757c131-dada-4c5e-ee98-d71ca81f9b6a"
      },
      "execution_count": null,
      "outputs": [
        {
          "output_type": "stream",
          "name": "stderr",
          "text": [
            "/usr/local/lib/python3.7/dist-packages/sklearn/model_selection/_split.py:680: UserWarning: The least populated class in y has only 1 members, which is less than n_splits=5.\n",
            "  UserWarning,\n",
            "/usr/local/lib/python3.7/dist-packages/sklearn/model_selection/_split.py:680: UserWarning: The least populated class in y has only 1 members, which is less than n_splits=5.\n",
            "  UserWarning,\n",
            "/usr/local/lib/python3.7/dist-packages/sklearn/model_selection/_split.py:680: UserWarning: The least populated class in y has only 1 members, which is less than n_splits=5.\n",
            "  UserWarning,\n"
          ]
        },
        {
          "output_type": "error",
          "ename": "ValueError",
          "evalue": "ignored",
          "traceback": [
            "\u001b[0;31m---------------------------------------------------------------------------\u001b[0m",
            "\u001b[0;31mValueError\u001b[0m                                Traceback (most recent call last)",
            "\u001b[0;32m<ipython-input-178-14c982280503>\u001b[0m in \u001b[0;36m<module>\u001b[0;34m\u001b[0m\n\u001b[0;32m----> 1\u001b[0;31m \u001b[0mmi_Grid\u001b[0m\u001b[0;34m.\u001b[0m\u001b[0mfit\u001b[0m\u001b[0;34m(\u001b[0m\u001b[0mX_train\u001b[0m\u001b[0;34m,\u001b[0m \u001b[0mnp\u001b[0m\u001b[0;34m.\u001b[0m\u001b[0mravel\u001b[0m\u001b[0;34m(\u001b[0m\u001b[0my_train\u001b[0m\u001b[0;34m)\u001b[0m\u001b[0;34m)\u001b[0m\u001b[0;34m\u001b[0m\u001b[0;34m\u001b[0m\u001b[0m\n\u001b[0m\u001b[1;32m      2\u001b[0m \u001b[0mbest_score\u001b[0m \u001b[0;34m=\u001b[0m \u001b[0mmi_Grid\u001b[0m\u001b[0;34m.\u001b[0m\u001b[0mbest_score_\u001b[0m\u001b[0;34m\u001b[0m\u001b[0;34m\u001b[0m\u001b[0m\n\u001b[1;32m      3\u001b[0m \u001b[0mbest_param\u001b[0m \u001b[0;34m=\u001b[0m \u001b[0mmi_Grid\u001b[0m\u001b[0;34m.\u001b[0m\u001b[0mbest_params_\u001b[0m\u001b[0;34m\u001b[0m\u001b[0;34m\u001b[0m\u001b[0m\n",
            "\u001b[0;32m/usr/local/lib/python3.7/dist-packages/sklearn/model_selection/_search.py\u001b[0m in \u001b[0;36mfit\u001b[0;34m(self, X, y, groups, **fit_params)\u001b[0m\n\u001b[1;32m    889\u001b[0m                 \u001b[0;32mreturn\u001b[0m \u001b[0mresults\u001b[0m\u001b[0;34m\u001b[0m\u001b[0;34m\u001b[0m\u001b[0m\n\u001b[1;32m    890\u001b[0m \u001b[0;34m\u001b[0m\u001b[0m\n\u001b[0;32m--> 891\u001b[0;31m             \u001b[0mself\u001b[0m\u001b[0;34m.\u001b[0m\u001b[0m_run_search\u001b[0m\u001b[0;34m(\u001b[0m\u001b[0mevaluate_candidates\u001b[0m\u001b[0;34m)\u001b[0m\u001b[0;34m\u001b[0m\u001b[0;34m\u001b[0m\u001b[0m\n\u001b[0m\u001b[1;32m    892\u001b[0m \u001b[0;34m\u001b[0m\u001b[0m\n\u001b[1;32m    893\u001b[0m             \u001b[0;31m# multimetric is determined here because in the case of a callable\u001b[0m\u001b[0;34m\u001b[0m\u001b[0;34m\u001b[0m\u001b[0;34m\u001b[0m\u001b[0m\n",
            "\u001b[0;32m/usr/local/lib/python3.7/dist-packages/sklearn/model_selection/_search.py\u001b[0m in \u001b[0;36m_run_search\u001b[0;34m(self, evaluate_candidates)\u001b[0m\n\u001b[1;32m   1390\u001b[0m     \u001b[0;32mdef\u001b[0m \u001b[0m_run_search\u001b[0m\u001b[0;34m(\u001b[0m\u001b[0mself\u001b[0m\u001b[0;34m,\u001b[0m \u001b[0mevaluate_candidates\u001b[0m\u001b[0;34m)\u001b[0m\u001b[0;34m:\u001b[0m\u001b[0;34m\u001b[0m\u001b[0;34m\u001b[0m\u001b[0m\n\u001b[1;32m   1391\u001b[0m         \u001b[0;34m\"\"\"Search all candidates in param_grid\"\"\"\u001b[0m\u001b[0;34m\u001b[0m\u001b[0;34m\u001b[0m\u001b[0m\n\u001b[0;32m-> 1392\u001b[0;31m         \u001b[0mevaluate_candidates\u001b[0m\u001b[0;34m(\u001b[0m\u001b[0mParameterGrid\u001b[0m\u001b[0;34m(\u001b[0m\u001b[0mself\u001b[0m\u001b[0;34m.\u001b[0m\u001b[0mparam_grid\u001b[0m\u001b[0;34m)\u001b[0m\u001b[0;34m)\u001b[0m\u001b[0;34m\u001b[0m\u001b[0;34m\u001b[0m\u001b[0m\n\u001b[0m\u001b[1;32m   1393\u001b[0m \u001b[0;34m\u001b[0m\u001b[0m\n\u001b[1;32m   1394\u001b[0m \u001b[0;34m\u001b[0m\u001b[0m\n",
            "\u001b[0;32m/usr/local/lib/python3.7/dist-packages/sklearn/model_selection/_search.py\u001b[0m in \u001b[0;36mevaluate_candidates\u001b[0;34m(candidate_params, cv, more_results)\u001b[0m\n\u001b[1;32m    849\u001b[0m                     )\n\u001b[1;32m    850\u001b[0m                     for (cand_idx, parameters), (split_idx, (train, test)) in product(\n\u001b[0;32m--> 851\u001b[0;31m                         \u001b[0menumerate\u001b[0m\u001b[0;34m(\u001b[0m\u001b[0mcandidate_params\u001b[0m\u001b[0;34m)\u001b[0m\u001b[0;34m,\u001b[0m \u001b[0menumerate\u001b[0m\u001b[0;34m(\u001b[0m\u001b[0mcv\u001b[0m\u001b[0;34m.\u001b[0m\u001b[0msplit\u001b[0m\u001b[0;34m(\u001b[0m\u001b[0mX\u001b[0m\u001b[0;34m,\u001b[0m \u001b[0my\u001b[0m\u001b[0;34m,\u001b[0m \u001b[0mgroups\u001b[0m\u001b[0;34m)\u001b[0m\u001b[0;34m)\u001b[0m\u001b[0;34m\u001b[0m\u001b[0;34m\u001b[0m\u001b[0m\n\u001b[0m\u001b[1;32m    852\u001b[0m                     )\n\u001b[1;32m    853\u001b[0m                 )\n",
            "\u001b[0;32m/usr/local/lib/python3.7/dist-packages/joblib/parallel.py\u001b[0m in \u001b[0;36m__call__\u001b[0;34m(self, iterable)\u001b[0m\n\u001b[1;32m   1083\u001b[0m             \u001b[0;31m# remaining jobs.\u001b[0m\u001b[0;34m\u001b[0m\u001b[0;34m\u001b[0m\u001b[0;34m\u001b[0m\u001b[0m\n\u001b[1;32m   1084\u001b[0m             \u001b[0mself\u001b[0m\u001b[0;34m.\u001b[0m\u001b[0m_iterating\u001b[0m \u001b[0;34m=\u001b[0m \u001b[0;32mFalse\u001b[0m\u001b[0;34m\u001b[0m\u001b[0;34m\u001b[0m\u001b[0m\n\u001b[0;32m-> 1085\u001b[0;31m             \u001b[0;32mif\u001b[0m \u001b[0mself\u001b[0m\u001b[0;34m.\u001b[0m\u001b[0mdispatch_one_batch\u001b[0m\u001b[0;34m(\u001b[0m\u001b[0miterator\u001b[0m\u001b[0;34m)\u001b[0m\u001b[0;34m:\u001b[0m\u001b[0;34m\u001b[0m\u001b[0;34m\u001b[0m\u001b[0m\n\u001b[0m\u001b[1;32m   1086\u001b[0m                 \u001b[0mself\u001b[0m\u001b[0;34m.\u001b[0m\u001b[0m_iterating\u001b[0m \u001b[0;34m=\u001b[0m \u001b[0mself\u001b[0m\u001b[0;34m.\u001b[0m\u001b[0m_original_iterator\u001b[0m \u001b[0;32mis\u001b[0m \u001b[0;32mnot\u001b[0m \u001b[0;32mNone\u001b[0m\u001b[0;34m\u001b[0m\u001b[0;34m\u001b[0m\u001b[0m\n\u001b[1;32m   1087\u001b[0m \u001b[0;34m\u001b[0m\u001b[0m\n",
            "\u001b[0;32m/usr/local/lib/python3.7/dist-packages/joblib/parallel.py\u001b[0m in \u001b[0;36mdispatch_one_batch\u001b[0;34m(self, iterator)\u001b[0m\n\u001b[1;32m    899\u001b[0m                 \u001b[0;32mreturn\u001b[0m \u001b[0;32mFalse\u001b[0m\u001b[0;34m\u001b[0m\u001b[0;34m\u001b[0m\u001b[0m\n\u001b[1;32m    900\u001b[0m             \u001b[0;32melse\u001b[0m\u001b[0;34m:\u001b[0m\u001b[0;34m\u001b[0m\u001b[0;34m\u001b[0m\u001b[0m\n\u001b[0;32m--> 901\u001b[0;31m                 \u001b[0mself\u001b[0m\u001b[0;34m.\u001b[0m\u001b[0m_dispatch\u001b[0m\u001b[0;34m(\u001b[0m\u001b[0mtasks\u001b[0m\u001b[0;34m)\u001b[0m\u001b[0;34m\u001b[0m\u001b[0;34m\u001b[0m\u001b[0m\n\u001b[0m\u001b[1;32m    902\u001b[0m                 \u001b[0;32mreturn\u001b[0m \u001b[0;32mTrue\u001b[0m\u001b[0;34m\u001b[0m\u001b[0;34m\u001b[0m\u001b[0m\n\u001b[1;32m    903\u001b[0m \u001b[0;34m\u001b[0m\u001b[0m\n",
            "\u001b[0;32m/usr/local/lib/python3.7/dist-packages/joblib/parallel.py\u001b[0m in \u001b[0;36m_dispatch\u001b[0;34m(self, batch)\u001b[0m\n\u001b[1;32m    817\u001b[0m         \u001b[0;32mwith\u001b[0m \u001b[0mself\u001b[0m\u001b[0;34m.\u001b[0m\u001b[0m_lock\u001b[0m\u001b[0;34m:\u001b[0m\u001b[0;34m\u001b[0m\u001b[0;34m\u001b[0m\u001b[0m\n\u001b[1;32m    818\u001b[0m             \u001b[0mjob_idx\u001b[0m \u001b[0;34m=\u001b[0m \u001b[0mlen\u001b[0m\u001b[0;34m(\u001b[0m\u001b[0mself\u001b[0m\u001b[0;34m.\u001b[0m\u001b[0m_jobs\u001b[0m\u001b[0;34m)\u001b[0m\u001b[0;34m\u001b[0m\u001b[0;34m\u001b[0m\u001b[0m\n\u001b[0;32m--> 819\u001b[0;31m             \u001b[0mjob\u001b[0m \u001b[0;34m=\u001b[0m \u001b[0mself\u001b[0m\u001b[0;34m.\u001b[0m\u001b[0m_backend\u001b[0m\u001b[0;34m.\u001b[0m\u001b[0mapply_async\u001b[0m\u001b[0;34m(\u001b[0m\u001b[0mbatch\u001b[0m\u001b[0;34m,\u001b[0m \u001b[0mcallback\u001b[0m\u001b[0;34m=\u001b[0m\u001b[0mcb\u001b[0m\u001b[0;34m)\u001b[0m\u001b[0;34m\u001b[0m\u001b[0;34m\u001b[0m\u001b[0m\n\u001b[0m\u001b[1;32m    820\u001b[0m             \u001b[0;31m# A job can complete so quickly than its callback is\u001b[0m\u001b[0;34m\u001b[0m\u001b[0;34m\u001b[0m\u001b[0;34m\u001b[0m\u001b[0m\n\u001b[1;32m    821\u001b[0m             \u001b[0;31m# called before we get here, causing self._jobs to\u001b[0m\u001b[0;34m\u001b[0m\u001b[0;34m\u001b[0m\u001b[0;34m\u001b[0m\u001b[0m\n",
            "\u001b[0;32m/usr/local/lib/python3.7/dist-packages/joblib/_parallel_backends.py\u001b[0m in \u001b[0;36mapply_async\u001b[0;34m(self, func, callback)\u001b[0m\n\u001b[1;32m    206\u001b[0m     \u001b[0;32mdef\u001b[0m \u001b[0mapply_async\u001b[0m\u001b[0;34m(\u001b[0m\u001b[0mself\u001b[0m\u001b[0;34m,\u001b[0m \u001b[0mfunc\u001b[0m\u001b[0;34m,\u001b[0m \u001b[0mcallback\u001b[0m\u001b[0;34m=\u001b[0m\u001b[0;32mNone\u001b[0m\u001b[0;34m)\u001b[0m\u001b[0;34m:\u001b[0m\u001b[0;34m\u001b[0m\u001b[0;34m\u001b[0m\u001b[0m\n\u001b[1;32m    207\u001b[0m         \u001b[0;34m\"\"\"Schedule a func to be run\"\"\"\u001b[0m\u001b[0;34m\u001b[0m\u001b[0;34m\u001b[0m\u001b[0m\n\u001b[0;32m--> 208\u001b[0;31m         \u001b[0mresult\u001b[0m \u001b[0;34m=\u001b[0m \u001b[0mImmediateResult\u001b[0m\u001b[0;34m(\u001b[0m\u001b[0mfunc\u001b[0m\u001b[0;34m)\u001b[0m\u001b[0;34m\u001b[0m\u001b[0;34m\u001b[0m\u001b[0m\n\u001b[0m\u001b[1;32m    209\u001b[0m         \u001b[0;32mif\u001b[0m \u001b[0mcallback\u001b[0m\u001b[0;34m:\u001b[0m\u001b[0;34m\u001b[0m\u001b[0;34m\u001b[0m\u001b[0m\n\u001b[1;32m    210\u001b[0m             \u001b[0mcallback\u001b[0m\u001b[0;34m(\u001b[0m\u001b[0mresult\u001b[0m\u001b[0;34m)\u001b[0m\u001b[0;34m\u001b[0m\u001b[0;34m\u001b[0m\u001b[0m\n",
            "\u001b[0;32m/usr/local/lib/python3.7/dist-packages/joblib/_parallel_backends.py\u001b[0m in \u001b[0;36m__init__\u001b[0;34m(self, batch)\u001b[0m\n\u001b[1;32m    595\u001b[0m         \u001b[0;31m# Don't delay the application, to avoid keeping the input\u001b[0m\u001b[0;34m\u001b[0m\u001b[0;34m\u001b[0m\u001b[0;34m\u001b[0m\u001b[0m\n\u001b[1;32m    596\u001b[0m         \u001b[0;31m# arguments in memory\u001b[0m\u001b[0;34m\u001b[0m\u001b[0;34m\u001b[0m\u001b[0;34m\u001b[0m\u001b[0m\n\u001b[0;32m--> 597\u001b[0;31m         \u001b[0mself\u001b[0m\u001b[0;34m.\u001b[0m\u001b[0mresults\u001b[0m \u001b[0;34m=\u001b[0m \u001b[0mbatch\u001b[0m\u001b[0;34m(\u001b[0m\u001b[0;34m)\u001b[0m\u001b[0;34m\u001b[0m\u001b[0;34m\u001b[0m\u001b[0m\n\u001b[0m\u001b[1;32m    598\u001b[0m \u001b[0;34m\u001b[0m\u001b[0m\n\u001b[1;32m    599\u001b[0m     \u001b[0;32mdef\u001b[0m \u001b[0mget\u001b[0m\u001b[0;34m(\u001b[0m\u001b[0mself\u001b[0m\u001b[0;34m)\u001b[0m\u001b[0;34m:\u001b[0m\u001b[0;34m\u001b[0m\u001b[0;34m\u001b[0m\u001b[0m\n",
            "\u001b[0;32m/usr/local/lib/python3.7/dist-packages/joblib/parallel.py\u001b[0m in \u001b[0;36m__call__\u001b[0;34m(self)\u001b[0m\n\u001b[1;32m    287\u001b[0m         \u001b[0;32mwith\u001b[0m \u001b[0mparallel_backend\u001b[0m\u001b[0;34m(\u001b[0m\u001b[0mself\u001b[0m\u001b[0;34m.\u001b[0m\u001b[0m_backend\u001b[0m\u001b[0;34m,\u001b[0m \u001b[0mn_jobs\u001b[0m\u001b[0;34m=\u001b[0m\u001b[0mself\u001b[0m\u001b[0;34m.\u001b[0m\u001b[0m_n_jobs\u001b[0m\u001b[0;34m)\u001b[0m\u001b[0;34m:\u001b[0m\u001b[0;34m\u001b[0m\u001b[0;34m\u001b[0m\u001b[0m\n\u001b[1;32m    288\u001b[0m             return [func(*args, **kwargs)\n\u001b[0;32m--> 289\u001b[0;31m                     for func, args, kwargs in self.items]\n\u001b[0m\u001b[1;32m    290\u001b[0m \u001b[0;34m\u001b[0m\u001b[0m\n\u001b[1;32m    291\u001b[0m     \u001b[0;32mdef\u001b[0m \u001b[0m__reduce__\u001b[0m\u001b[0;34m(\u001b[0m\u001b[0mself\u001b[0m\u001b[0;34m)\u001b[0m\u001b[0;34m:\u001b[0m\u001b[0;34m\u001b[0m\u001b[0;34m\u001b[0m\u001b[0m\n",
            "\u001b[0;32m/usr/local/lib/python3.7/dist-packages/joblib/parallel.py\u001b[0m in \u001b[0;36m<listcomp>\u001b[0;34m(.0)\u001b[0m\n\u001b[1;32m    287\u001b[0m         \u001b[0;32mwith\u001b[0m \u001b[0mparallel_backend\u001b[0m\u001b[0;34m(\u001b[0m\u001b[0mself\u001b[0m\u001b[0;34m.\u001b[0m\u001b[0m_backend\u001b[0m\u001b[0;34m,\u001b[0m \u001b[0mn_jobs\u001b[0m\u001b[0;34m=\u001b[0m\u001b[0mself\u001b[0m\u001b[0;34m.\u001b[0m\u001b[0m_n_jobs\u001b[0m\u001b[0;34m)\u001b[0m\u001b[0;34m:\u001b[0m\u001b[0;34m\u001b[0m\u001b[0;34m\u001b[0m\u001b[0m\n\u001b[1;32m    288\u001b[0m             return [func(*args, **kwargs)\n\u001b[0;32m--> 289\u001b[0;31m                     for func, args, kwargs in self.items]\n\u001b[0m\u001b[1;32m    290\u001b[0m \u001b[0;34m\u001b[0m\u001b[0m\n\u001b[1;32m    291\u001b[0m     \u001b[0;32mdef\u001b[0m \u001b[0m__reduce__\u001b[0m\u001b[0;34m(\u001b[0m\u001b[0mself\u001b[0m\u001b[0;34m)\u001b[0m\u001b[0;34m:\u001b[0m\u001b[0;34m\u001b[0m\u001b[0;34m\u001b[0m\u001b[0m\n",
            "\u001b[0;32m/usr/local/lib/python3.7/dist-packages/sklearn/utils/fixes.py\u001b[0m in \u001b[0;36m__call__\u001b[0;34m(self, *args, **kwargs)\u001b[0m\n\u001b[1;32m    214\u001b[0m     \u001b[0;32mdef\u001b[0m \u001b[0m__call__\u001b[0m\u001b[0;34m(\u001b[0m\u001b[0mself\u001b[0m\u001b[0;34m,\u001b[0m \u001b[0;34m*\u001b[0m\u001b[0margs\u001b[0m\u001b[0;34m,\u001b[0m \u001b[0;34m**\u001b[0m\u001b[0mkwargs\u001b[0m\u001b[0;34m)\u001b[0m\u001b[0;34m:\u001b[0m\u001b[0;34m\u001b[0m\u001b[0;34m\u001b[0m\u001b[0m\n\u001b[1;32m    215\u001b[0m         \u001b[0;32mwith\u001b[0m \u001b[0mconfig_context\u001b[0m\u001b[0;34m(\u001b[0m\u001b[0;34m**\u001b[0m\u001b[0mself\u001b[0m\u001b[0;34m.\u001b[0m\u001b[0mconfig\u001b[0m\u001b[0;34m)\u001b[0m\u001b[0;34m:\u001b[0m\u001b[0;34m\u001b[0m\u001b[0;34m\u001b[0m\u001b[0m\n\u001b[0;32m--> 216\u001b[0;31m             \u001b[0;32mreturn\u001b[0m \u001b[0mself\u001b[0m\u001b[0;34m.\u001b[0m\u001b[0mfunction\u001b[0m\u001b[0;34m(\u001b[0m\u001b[0;34m*\u001b[0m\u001b[0margs\u001b[0m\u001b[0;34m,\u001b[0m \u001b[0;34m**\u001b[0m\u001b[0mkwargs\u001b[0m\u001b[0;34m)\u001b[0m\u001b[0;34m\u001b[0m\u001b[0;34m\u001b[0m\u001b[0m\n\u001b[0m\u001b[1;32m    217\u001b[0m \u001b[0;34m\u001b[0m\u001b[0m\n\u001b[1;32m    218\u001b[0m \u001b[0;34m\u001b[0m\u001b[0m\n",
            "\u001b[0;32m/usr/local/lib/python3.7/dist-packages/sklearn/model_selection/_validation.py\u001b[0m in \u001b[0;36m_fit_and_score\u001b[0;34m(estimator, X, y, scorer, train, test, verbose, parameters, fit_params, return_train_score, return_parameters, return_n_test_samples, return_times, return_estimator, split_progress, candidate_progress, error_score)\u001b[0m\n\u001b[1;32m    666\u001b[0m             \u001b[0mcloned_parameters\u001b[0m\u001b[0;34m[\u001b[0m\u001b[0mk\u001b[0m\u001b[0;34m]\u001b[0m \u001b[0;34m=\u001b[0m \u001b[0mclone\u001b[0m\u001b[0;34m(\u001b[0m\u001b[0mv\u001b[0m\u001b[0;34m,\u001b[0m \u001b[0msafe\u001b[0m\u001b[0;34m=\u001b[0m\u001b[0;32mFalse\u001b[0m\u001b[0;34m)\u001b[0m\u001b[0;34m\u001b[0m\u001b[0;34m\u001b[0m\u001b[0m\n\u001b[1;32m    667\u001b[0m \u001b[0;34m\u001b[0m\u001b[0m\n\u001b[0;32m--> 668\u001b[0;31m         \u001b[0mestimator\u001b[0m \u001b[0;34m=\u001b[0m \u001b[0mestimator\u001b[0m\u001b[0;34m.\u001b[0m\u001b[0mset_params\u001b[0m\u001b[0;34m(\u001b[0m\u001b[0;34m**\u001b[0m\u001b[0mcloned_parameters\u001b[0m\u001b[0;34m)\u001b[0m\u001b[0;34m\u001b[0m\u001b[0;34m\u001b[0m\u001b[0m\n\u001b[0m\u001b[1;32m    669\u001b[0m \u001b[0;34m\u001b[0m\u001b[0m\n\u001b[1;32m    670\u001b[0m     \u001b[0mstart_time\u001b[0m \u001b[0;34m=\u001b[0m \u001b[0mtime\u001b[0m\u001b[0;34m.\u001b[0m\u001b[0mtime\u001b[0m\u001b[0;34m(\u001b[0m\u001b[0;34m)\u001b[0m\u001b[0;34m\u001b[0m\u001b[0;34m\u001b[0m\u001b[0m\n",
            "\u001b[0;32m/usr/local/lib/python3.7/dist-packages/sklearn/pipeline.py\u001b[0m in \u001b[0;36mset_params\u001b[0;34m(self, **kwargs)\u001b[0m\n\u001b[1;32m    186\u001b[0m             \u001b[0mPipeline\u001b[0m \u001b[0;32mclass\u001b[0m \u001b[0minstance\u001b[0m\u001b[0;34m.\u001b[0m\u001b[0;34m\u001b[0m\u001b[0;34m\u001b[0m\u001b[0m\n\u001b[1;32m    187\u001b[0m         \"\"\"\n\u001b[0;32m--> 188\u001b[0;31m         \u001b[0mself\u001b[0m\u001b[0;34m.\u001b[0m\u001b[0m_set_params\u001b[0m\u001b[0;34m(\u001b[0m\u001b[0;34m\"steps\"\u001b[0m\u001b[0;34m,\u001b[0m \u001b[0;34m**\u001b[0m\u001b[0mkwargs\u001b[0m\u001b[0;34m)\u001b[0m\u001b[0;34m\u001b[0m\u001b[0;34m\u001b[0m\u001b[0m\n\u001b[0m\u001b[1;32m    189\u001b[0m         \u001b[0;32mreturn\u001b[0m \u001b[0mself\u001b[0m\u001b[0;34m\u001b[0m\u001b[0;34m\u001b[0m\u001b[0m\n\u001b[1;32m    190\u001b[0m \u001b[0;34m\u001b[0m\u001b[0m\n",
            "\u001b[0;32m/usr/local/lib/python3.7/dist-packages/sklearn/utils/metaestimators.py\u001b[0m in \u001b[0;36m_set_params\u001b[0;34m(self, attr, **params)\u001b[0m\n\u001b[1;32m     52\u001b[0m                 \u001b[0mself\u001b[0m\u001b[0;34m.\u001b[0m\u001b[0m_replace_estimator\u001b[0m\u001b[0;34m(\u001b[0m\u001b[0mattr\u001b[0m\u001b[0;34m,\u001b[0m \u001b[0mname\u001b[0m\u001b[0;34m,\u001b[0m \u001b[0mparams\u001b[0m\u001b[0;34m.\u001b[0m\u001b[0mpop\u001b[0m\u001b[0;34m(\u001b[0m\u001b[0mname\u001b[0m\u001b[0;34m)\u001b[0m\u001b[0;34m)\u001b[0m\u001b[0;34m\u001b[0m\u001b[0;34m\u001b[0m\u001b[0m\n\u001b[1;32m     53\u001b[0m         \u001b[0;31m# 3. Step parameters and other initialisation arguments\u001b[0m\u001b[0;34m\u001b[0m\u001b[0;34m\u001b[0m\u001b[0;34m\u001b[0m\u001b[0m\n\u001b[0;32m---> 54\u001b[0;31m         \u001b[0msuper\u001b[0m\u001b[0;34m(\u001b[0m\u001b[0;34m)\u001b[0m\u001b[0;34m.\u001b[0m\u001b[0mset_params\u001b[0m\u001b[0;34m(\u001b[0m\u001b[0;34m**\u001b[0m\u001b[0mparams\u001b[0m\u001b[0;34m)\u001b[0m\u001b[0;34m\u001b[0m\u001b[0;34m\u001b[0m\u001b[0m\n\u001b[0m\u001b[1;32m     55\u001b[0m         \u001b[0;32mreturn\u001b[0m \u001b[0mself\u001b[0m\u001b[0;34m\u001b[0m\u001b[0;34m\u001b[0m\u001b[0m\n\u001b[1;32m     56\u001b[0m \u001b[0;34m\u001b[0m\u001b[0m\n",
            "\u001b[0;32m/usr/local/lib/python3.7/dist-packages/sklearn/base.py\u001b[0m in \u001b[0;36mset_params\u001b[0;34m(self, **params)\u001b[0m\n\u001b[1;32m    246\u001b[0m                     \u001b[0;34m\"Invalid parameter %s for estimator %s. \"\u001b[0m\u001b[0;34m\u001b[0m\u001b[0;34m\u001b[0m\u001b[0m\n\u001b[1;32m    247\u001b[0m                     \u001b[0;34m\"Check the list of available parameters \"\u001b[0m\u001b[0;34m\u001b[0m\u001b[0;34m\u001b[0m\u001b[0m\n\u001b[0;32m--> 248\u001b[0;31m                     \u001b[0;34m\"with `estimator.get_params().keys()`.\"\u001b[0m \u001b[0;34m%\u001b[0m \u001b[0;34m(\u001b[0m\u001b[0mkey\u001b[0m\u001b[0;34m,\u001b[0m \u001b[0mself\u001b[0m\u001b[0;34m)\u001b[0m\u001b[0;34m\u001b[0m\u001b[0;34m\u001b[0m\u001b[0m\n\u001b[0m\u001b[1;32m    249\u001b[0m                 )\n\u001b[1;32m    250\u001b[0m \u001b[0;34m\u001b[0m\u001b[0m\n",
            "\u001b[0;31mValueError\u001b[0m: Invalid parameter alpha for estimator Pipeline(steps=[('DataPrep',\n                 ColumnTransformer(remainder='passthrough',\n                                   transformers=[('Numericas',\n                                                  Pipeline(steps=[('ImpMediana',\n                                                                   SimpleImputer(strategy='median')),\n                                                                  ('scalar',\n                                                                   MinMaxScaler())]),\n                                                  ['PostMonth', 'PostHour',\n                                                   'PostWeekday']),\n                                                 ('Categoricas',\n                                                  Pipeline(steps=[('impModa',\n                                                                   SimpleImputer(strategy='most_frequent')),\n                                                                  ('OneHotE',\n                                                                   OneHotEncoder(handle_unknow...\n                                                  ['Type', 'Category']),\n                                                 ('Cuantitativas',\n                                                  Pipeline(steps=[('impMediana',\n                                                                   SimpleImputer(strategy='median')),\n                                                                  ('scalar',\n                                                                   MinMaxScaler())]),\n                                                  ['PageTotalLikes']),\n                                                 ('binarias',\n                                                  Pipeline(steps=[('impModa',\n                                                                   SimpleImputer(strategy='most_frequent')),\n                                                                  ('OneHotE',\n                                                                   OneHotEncoder(handle_unknown='ignore'))]),\n                                                  ['Paid'])])),\n                ('model',\n                 MLPRegressor(hidden_layer_sizes=(1, 1), max_iter=20000))]). Check the list of available parameters with `estimator.get_params().keys()`."
          ]
        }
      ]
    },
    {
      "cell_type": "code",
      "source": [
        "print(\"Best score:\", best_score)\n",
        "print(\"Best param:\", best_param)"
      ],
      "metadata": {
        "id": "Fb5Nc7snVhMq"
      },
      "execution_count": null,
      "outputs": []
    },
    {
      "cell_type": "markdown",
      "source": [
        "#**Ejercicio-9.**"
      ],
      "metadata": {
        "id": "mASNrZWs8JTh"
      }
    },
    {
      "cell_type": "code",
      "source": [
        "None"
      ],
      "metadata": {
        "id": "X6HJP9hb8LCp"
      },
      "execution_count": null,
      "outputs": []
    },
    {
      "cell_type": "code",
      "source": [],
      "metadata": {
        "id": "Xr6oe1VF8K_A"
      },
      "execution_count": null,
      "outputs": []
    },
    {
      "cell_type": "markdown",
      "source": [
        "#**Ejercicio-10.**"
      ],
      "metadata": {
        "id": "VUIcDshs8MzG"
      }
    },
    {
      "cell_type": "code",
      "source": [
        "None"
      ],
      "metadata": {
        "id": "0lKNJNIt8N88"
      },
      "execution_count": null,
      "outputs": []
    },
    {
      "cell_type": "code",
      "source": [],
      "metadata": {
        "id": "Inkq5YQe8PED"
      },
      "execution_count": null,
      "outputs": []
    },
    {
      "cell_type": "markdown",
      "source": [
        "#**Ejercicio-11.**"
      ],
      "metadata": {
        "id": "5LJl6oql8Pc8"
      }
    },
    {
      "cell_type": "code",
      "source": [
        "None"
      ],
      "metadata": {
        "id": "-YiSnt9t8RfN"
      },
      "execution_count": null,
      "outputs": []
    },
    {
      "cell_type": "code",
      "source": [],
      "metadata": {
        "id": "2iRA78ZC8Rbm"
      },
      "execution_count": null,
      "outputs": []
    },
    {
      "cell_type": "markdown",
      "source": [
        "#**Ejercicio-12.**"
      ],
      "metadata": {
        "id": "IKW72uyk8Sbc"
      }
    },
    {
      "cell_type": "code",
      "source": [
        "None"
      ],
      "metadata": {
        "id": "gwpz77W38Uq0"
      },
      "execution_count": null,
      "outputs": []
    },
    {
      "cell_type": "code",
      "source": [],
      "metadata": {
        "id": "8v8HL02W8UmW"
      },
      "execution_count": null,
      "outputs": []
    },
    {
      "cell_type": "markdown",
      "source": [
        "###**Fin de la Actividad de la semana 7.**"
      ],
      "metadata": {
        "id": "7ql_r2G-DB_m"
      }
    }
  ]
}